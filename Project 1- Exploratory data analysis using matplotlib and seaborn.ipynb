{
 "cells": [
  {
   "cell_type": "markdown",
   "metadata": {
    "id": "mpdHf2qhvlgX"
   },
   "source": [
    "\n",
    "# <center><font color=\"red\">Project 1</font></center>\n",
    "## <center><font color=\"blue\">Exploratory data analysis using matplotlib and seaborn</font>\n",
    "<center>"
   ]
  },
  {
   "cell_type": "markdown",
   "metadata": {
    "id": "gmUT1enSvlgZ"
   },
   "source": [
    "SHIVAKRISHNA MACHA"
   ]
  },
  {
   "cell_type": "markdown",
   "metadata": {
    "id": "4buG0deVvlgZ"
   },
   "source": [
    "##  <font color=\"red\">1: Introduction</font>\n",
    "\n",
    "\n",
    "I'll be examining the major reasons of Motor Vehicle Crashes in New York City for this research (\"NYC\"). The dataset is from [DATA.GOV](https://catalog.data.gov/dataset/motor-vehicle-collisions-crashes) it contains the date, time, location and the casualities happened due to the crash.Initially I thought of taking the data from last 5 years which lead to storage issue and then I decided to keep the scope of data from the year of 2022 and 2023 with 180030 observations and 29 attributes.\n",
    "\n",
    "The major goal of this investigation is to answer the below research questions:\n",
    "\n",
    "1. **Temporal Analysis** :\n",
    " > What are the temporal trends in motor vehicle crashes over time? Are there specific times of the day, days of the week, or months with higher accident rates?\n",
    "\n",
    " >Is there a correlation between the time of day and the severity of crashes (i.e., more fatalities during certain hours)?\n",
    "\n",
    "2. **Spatial Analysis** : Where are the most dangerous locations for motor vehicle crashes? Can we identify high-risk areas?\n",
    "\n",
    "3. **Seasonal Trends** :\n",
    " > Are there seasonal variations in the frequency and severity of motor vehicle crashes?\n",
    "\n",
    "\n"
   ]
  },
  {
   "cell_type": "markdown",
   "metadata": {
    "id": "GQocicEcvlga"
   },
   "source": [
    "## <font color=\"red\">2: Data Summary\n",
    "</font>\n",
    "\n",
    "As previously indicated, the dataset was obtained via DATA.GOV.\n",
    "As part of usecases the dataset includes statistics on motor vehicle crashes in New York . There are 180030 observation with 29 attributes each over the span of two years i.e., 2022 and 2023\n",
    "Each record contains the following attributes:\n",
    "\n",
    "1. Crash Date\n",
    "    * The date on which the crash happened\n",
    "2. Crash Time\n",
    "    * Time of Crash\n",
    "3. Borough\n",
    "    * Borough of the Crash\n",
    "4. Zip Code\n",
    "    * Zip code of the crash location\n",
    "5. Lattitude\n",
    "    * Latitide of the crash location\n",
    "6. Longitude\n",
    "    * Longitude of the crash location\n",
    "7. Location :\n",
    "    * Lattitude and Longitude of the crash place\n",
    "8. On Street name\n",
    "    * Name of the street where crash happened\n",
    "9. Cross Street\n",
    "    * Connecting street to the crash happened street\n",
    "10. Off Street\n",
    "    * Not a private street\n",
    "11. No of Persons Injured\n",
    "    * Number of persons Injured in the crash\n",
    "12. No of Persons Killed\n",
    "    * Number of persons killed in the crash\n",
    "13. No of Pedestrians Injured\n",
    "    * No of Pedestrians injured in the crash\n",
    "14. No of Pedestrians Killed\n",
    "    * No of Pedestrians Killed in the crash\n",
    "15. No of Cyclist Injured  \n",
    "    * No of Cyclist Injured in the crash\n",
    "16. No of Cyclist Killed\n",
    "    * No of Cyclist Killed in the crash\n",
    "17. No of Motorist Injured\n",
    "    * No of Motorist Injured in the crash\n",
    "18. No of Motorist Killed\n",
    "    * No of Motorist killed in the crash\n",
    "19. Contributing Vehicle Factor 1\n",
    "    * The factor that contrinbute to the crash of vehicle 1\n",
    "20. Contributing Vehicle Factor 2\n",
    "    * The factor that contrinbute to the crash of vehicle 2\n",
    "21. Contributing Vehicle Factor 3\n",
    "    * The factor that contrinbute to the crash of vehicle 3\n",
    "22. Contributing Vehicle Factor 4\n",
    "    * The factor that contrinbute to the crash of vehicle 4\n",
    "23. Contributing Vehicle Factor 5\n",
    "    * The factor that contrinbute to the crash of vehicle 5\n",
    "24. Collision ID\n",
    "    * Coliision Id which is a unique identificatio number\n",
    "25. Vehicle Type Code 1\n",
    "    * Type of the vehicle1 involved in the crash\n",
    "26. Vehicle Type Code 2\n",
    "    * Type of the vehicle2 involved in the crash\n",
    "27. Vehicle Type Code 3\n",
    "    * Type of the vehicle3 involved in the crash\n",
    "28. Vehicle Type Code 4\n",
    "    * Type of the vehicle4 involved in the crash\n",
    "29. Vehicle Type Code 5\n",
    "    * Type of the vehicle5 involved in the crash\n",
    "\n"
   ]
  },
  {
   "cell_type": "code",
   "execution_count": 88,
   "metadata": {
    "colab": {
     "base_uri": "https://localhost:8080/",
     "height": 446
    },
    "id": "rX1VAH6vvlga",
    "outputId": "ef39e6f6-d0f8-4302-f4dd-8bb6c43dd721"
   },
   "outputs": [
    {
     "name": "stderr",
     "output_type": "stream",
     "text": [
      "C:\\Users\\shiva\\AppData\\Local\\Temp\\ipykernel_1100\\3874038885.py:10: DtypeWarning: Columns (0,1,2,6,7,8,9,18,19,20,21,22,24,25,26,27,28) have mixed types. Specify dtype option on import or set low_memory=False.\n",
      "  data = pd.read_csv(filename)\n"
     ]
    },
    {
     "data": {
      "text/html": [
       "<div>\n",
       "<style scoped>\n",
       "    .dataframe tbody tr th:only-of-type {\n",
       "        vertical-align: middle;\n",
       "    }\n",
       "\n",
       "    .dataframe tbody tr th {\n",
       "        vertical-align: top;\n",
       "    }\n",
       "\n",
       "    .dataframe thead th {\n",
       "        text-align: right;\n",
       "    }\n",
       "</style>\n",
       "<table border=\"1\" class=\"dataframe\">\n",
       "  <thead>\n",
       "    <tr style=\"text-align: right;\">\n",
       "      <th></th>\n",
       "      <th>CRASH DATE</th>\n",
       "      <th>CRASH TIME</th>\n",
       "      <th>BOROUGH</th>\n",
       "      <th>ZIP CODE</th>\n",
       "      <th>LATITUDE</th>\n",
       "      <th>LONGITUDE</th>\n",
       "      <th>LOCATION</th>\n",
       "      <th>ON STREET NAME</th>\n",
       "      <th>CROSS STREET NAME</th>\n",
       "      <th>OFF STREET NAME</th>\n",
       "      <th>...</th>\n",
       "      <th>CONTRIBUTING FACTOR VEHICLE 2</th>\n",
       "      <th>CONTRIBUTING FACTOR VEHICLE 3</th>\n",
       "      <th>CONTRIBUTING FACTOR VEHICLE 4</th>\n",
       "      <th>CONTRIBUTING FACTOR VEHICLE 5</th>\n",
       "      <th>COLLISION_ID</th>\n",
       "      <th>VEHICLE TYPE CODE 1</th>\n",
       "      <th>VEHICLE TYPE CODE 2</th>\n",
       "      <th>VEHICLE TYPE CODE 3</th>\n",
       "      <th>VEHICLE TYPE CODE 4</th>\n",
       "      <th>VEHICLE TYPE CODE 5</th>\n",
       "    </tr>\n",
       "  </thead>\n",
       "  <tbody>\n",
       "    <tr>\n",
       "      <th>0</th>\n",
       "      <td>3/26/2022</td>\n",
       "      <td>11:45</td>\n",
       "      <td>NaN</td>\n",
       "      <td>NaN</td>\n",
       "      <td>NaN</td>\n",
       "      <td>NaN</td>\n",
       "      <td>NaN</td>\n",
       "      <td>QUEENSBORO BRIDGE UPPER</td>\n",
       "      <td>NaN</td>\n",
       "      <td>NaN</td>\n",
       "      <td>...</td>\n",
       "      <td>NaN</td>\n",
       "      <td>NaN</td>\n",
       "      <td>NaN</td>\n",
       "      <td>NaN</td>\n",
       "      <td>4513547.0</td>\n",
       "      <td>Sedan</td>\n",
       "      <td>NaN</td>\n",
       "      <td>NaN</td>\n",
       "      <td>NaN</td>\n",
       "      <td>NaN</td>\n",
       "    </tr>\n",
       "    <tr>\n",
       "      <th>1</th>\n",
       "      <td>6/29/2022</td>\n",
       "      <td>6:55</td>\n",
       "      <td>NaN</td>\n",
       "      <td>NaN</td>\n",
       "      <td>NaN</td>\n",
       "      <td>NaN</td>\n",
       "      <td>NaN</td>\n",
       "      <td>THROGS NECK BRIDGE</td>\n",
       "      <td>NaN</td>\n",
       "      <td>NaN</td>\n",
       "      <td>...</td>\n",
       "      <td>Unspecified</td>\n",
       "      <td>NaN</td>\n",
       "      <td>NaN</td>\n",
       "      <td>NaN</td>\n",
       "      <td>4541903.0</td>\n",
       "      <td>Sedan</td>\n",
       "      <td>Pick-up Truck</td>\n",
       "      <td>NaN</td>\n",
       "      <td>NaN</td>\n",
       "      <td>NaN</td>\n",
       "    </tr>\n",
       "    <tr>\n",
       "      <th>2</th>\n",
       "      <td>6/29/2022</td>\n",
       "      <td>16:00</td>\n",
       "      <td>NaN</td>\n",
       "      <td>NaN</td>\n",
       "      <td>NaN</td>\n",
       "      <td>NaN</td>\n",
       "      <td>NaN</td>\n",
       "      <td>WILLIAMSBURG BRIDGE OUTER ROADWA</td>\n",
       "      <td>NaN</td>\n",
       "      <td>NaN</td>\n",
       "      <td>...</td>\n",
       "      <td>Unspecified</td>\n",
       "      <td>NaN</td>\n",
       "      <td>NaN</td>\n",
       "      <td>NaN</td>\n",
       "      <td>4542336.0</td>\n",
       "      <td>Motorscooter</td>\n",
       "      <td>Station Wagon/Sport Utility Vehicle</td>\n",
       "      <td>NaN</td>\n",
       "      <td>NaN</td>\n",
       "      <td>NaN</td>\n",
       "    </tr>\n",
       "    <tr>\n",
       "      <th>3</th>\n",
       "      <td>7/12/2022</td>\n",
       "      <td>17:50</td>\n",
       "      <td>BROOKLYN</td>\n",
       "      <td>11225.0</td>\n",
       "      <td>40.663303</td>\n",
       "      <td>-73.96049</td>\n",
       "      <td>(40.663303, -73.96049)</td>\n",
       "      <td>NaN</td>\n",
       "      <td>NaN</td>\n",
       "      <td>44        EMPIRE BOULEVARD</td>\n",
       "      <td>...</td>\n",
       "      <td>Unspecified</td>\n",
       "      <td>NaN</td>\n",
       "      <td>NaN</td>\n",
       "      <td>NaN</td>\n",
       "      <td>4545699.0</td>\n",
       "      <td>Sedan</td>\n",
       "      <td>NaN</td>\n",
       "      <td>NaN</td>\n",
       "      <td>NaN</td>\n",
       "      <td>NaN</td>\n",
       "    </tr>\n",
       "    <tr>\n",
       "      <th>4</th>\n",
       "      <td>3/23/2022</td>\n",
       "      <td>10:00</td>\n",
       "      <td>NaN</td>\n",
       "      <td>NaN</td>\n",
       "      <td>NaN</td>\n",
       "      <td>NaN</td>\n",
       "      <td>NaN</td>\n",
       "      <td>NaN</td>\n",
       "      <td>NaN</td>\n",
       "      <td>71        EAST DRIVE</td>\n",
       "      <td>...</td>\n",
       "      <td>NaN</td>\n",
       "      <td>NaN</td>\n",
       "      <td>NaN</td>\n",
       "      <td>NaN</td>\n",
       "      <td>4512922.0</td>\n",
       "      <td>Bike</td>\n",
       "      <td>NaN</td>\n",
       "      <td>NaN</td>\n",
       "      <td>NaN</td>\n",
       "      <td>NaN</td>\n",
       "    </tr>\n",
       "  </tbody>\n",
       "</table>\n",
       "<p>5 rows × 29 columns</p>\n",
       "</div>"
      ],
      "text/plain": [
       "  CRASH DATE CRASH TIME   BOROUGH  ZIP CODE   LATITUDE  LONGITUDE  \\\n",
       "0  3/26/2022      11:45       NaN       NaN        NaN        NaN   \n",
       "1  6/29/2022       6:55       NaN       NaN        NaN        NaN   \n",
       "2  6/29/2022      16:00       NaN       NaN        NaN        NaN   \n",
       "3  7/12/2022      17:50  BROOKLYN   11225.0  40.663303  -73.96049   \n",
       "4  3/23/2022      10:00       NaN       NaN        NaN        NaN   \n",
       "\n",
       "                 LOCATION                    ON STREET NAME CROSS STREET NAME  \\\n",
       "0                     NaN           QUEENSBORO BRIDGE UPPER               NaN   \n",
       "1                     NaN                THROGS NECK BRIDGE               NaN   \n",
       "2                     NaN  WILLIAMSBURG BRIDGE OUTER ROADWA               NaN   \n",
       "3  (40.663303, -73.96049)                               NaN               NaN   \n",
       "4                     NaN                               NaN               NaN   \n",
       "\n",
       "              OFF STREET NAME  ...  CONTRIBUTING FACTOR VEHICLE 2  \\\n",
       "0                         NaN  ...                            NaN   \n",
       "1                         NaN  ...                    Unspecified   \n",
       "2                         NaN  ...                    Unspecified   \n",
       "3  44        EMPIRE BOULEVARD  ...                    Unspecified   \n",
       "4        71        EAST DRIVE  ...                            NaN   \n",
       "\n",
       "   CONTRIBUTING FACTOR VEHICLE 3  CONTRIBUTING FACTOR VEHICLE 4  \\\n",
       "0                            NaN                            NaN   \n",
       "1                            NaN                            NaN   \n",
       "2                            NaN                            NaN   \n",
       "3                            NaN                            NaN   \n",
       "4                            NaN                            NaN   \n",
       "\n",
       "   CONTRIBUTING FACTOR VEHICLE 5  COLLISION_ID  VEHICLE TYPE CODE 1  \\\n",
       "0                            NaN     4513547.0                Sedan   \n",
       "1                            NaN     4541903.0                Sedan   \n",
       "2                            NaN     4542336.0         Motorscooter   \n",
       "3                            NaN     4545699.0                Sedan   \n",
       "4                            NaN     4512922.0                 Bike   \n",
       "\n",
       "                   VEHICLE TYPE CODE 2  VEHICLE TYPE CODE 3  \\\n",
       "0                                  NaN                  NaN   \n",
       "1                        Pick-up Truck                  NaN   \n",
       "2  Station Wagon/Sport Utility Vehicle                  NaN   \n",
       "3                                  NaN                  NaN   \n",
       "4                                  NaN                  NaN   \n",
       "\n",
       "  VEHICLE TYPE CODE 4 VEHICLE TYPE CODE 5  \n",
       "0                 NaN                 NaN  \n",
       "1                 NaN                 NaN  \n",
       "2                 NaN                 NaN  \n",
       "3                 NaN                 NaN  \n",
       "4                 NaN                 NaN  \n",
       "\n",
       "[5 rows x 29 columns]"
      ]
     },
     "execution_count": 88,
     "metadata": {},
     "output_type": "execute_result"
    }
   ],
   "source": [
    "#Import packages/libraries\n",
    "import pandas as pd\n",
    "import numpy as np\n",
    "%matplotlib inline\n",
    "import matplotlib.pyplot as plt\n",
    "import seaborn as sns\n",
    "\n",
    "# Importing data from git repo\n",
    "filename = \"https://raw.githubusercontent.com/shivakrishna67/Python-Project/main/Motor_veh_collisions.csv\"\n",
    "data = pd.read_csv(filename)\n",
    "#displaying the first 5 observations of the data\n",
    "data.head()"
   ]
  },
  {
   "cell_type": "code",
   "execution_count": 89,
   "metadata": {
    "id": "55rVEKvWID6D"
   },
   "outputs": [],
   "source": [
    "data.to_csv(\"dataset.csv\")"
   ]
  },
  {
   "cell_type": "code",
   "execution_count": 90,
   "metadata": {
    "colab": {
     "base_uri": "https://localhost:8080/"
    },
    "id": "h-kwx-S91MLo",
    "outputId": "7d08d70d-65cf-4b7e-995d-84cf8d25b349"
   },
   "outputs": [
    {
     "name": "stdout",
     "output_type": "stream",
     "text": [
      "<class 'pandas.core.frame.DataFrame'>\n",
      "RangeIndex: 180030 entries, 0 to 180029\n",
      "Data columns (total 29 columns):\n",
      " #   Column                         Non-Null Count  Dtype  \n",
      "---  ------                         --------------  -----  \n",
      " 0   CRASH DATE                     69506 non-null  object \n",
      " 1   CRASH TIME                     69506 non-null  object \n",
      " 2   BOROUGH                        46039 non-null  object \n",
      " 3   ZIP CODE                       46030 non-null  float64\n",
      " 4   LATITUDE                       63142 non-null  float64\n",
      " 5   LONGITUDE                      63142 non-null  float64\n",
      " 6   LOCATION                       63142 non-null  object \n",
      " 7   ON STREET NAME                 50252 non-null  object \n",
      " 8   CROSS STREET NAME              32265 non-null  object \n",
      " 9   OFF STREET NAME                19253 non-null  object \n",
      " 10  NUMBER OF PERSONS INJURED      69506 non-null  float64\n",
      " 11  NUMBER OF PERSONS KILLED       69506 non-null  float64\n",
      " 12  NUMBER OF PEDESTRIANS INJURED  69506 non-null  float64\n",
      " 13  NUMBER OF PEDESTRIANS KILLED   69506 non-null  float64\n",
      " 14  NUMBER OF CYCLIST INJURED      69506 non-null  float64\n",
      " 15  NUMBER OF CYCLIST KILLED       69506 non-null  float64\n",
      " 16  NUMBER OF MOTORIST INJURED     69506 non-null  float64\n",
      " 17  NUMBER OF MOTORIST KILLED      69506 non-null  float64\n",
      " 18  CONTRIBUTING FACTOR VEHICLE 1  69133 non-null  object \n",
      " 19  CONTRIBUTING FACTOR VEHICLE 2  53527 non-null  object \n",
      " 20  CONTRIBUTING FACTOR VEHICLE 3  6828 non-null   object \n",
      " 21  CONTRIBUTING FACTOR VEHICLE 4  1842 non-null   object \n",
      " 22  CONTRIBUTING FACTOR VEHICLE 5  527 non-null    object \n",
      " 23  COLLISION_ID                   69506 non-null  float64\n",
      " 24  VEHICLE TYPE CODE 1            68608 non-null  object \n",
      " 25  VEHICLE TYPE CODE 2            46177 non-null  object \n",
      " 26  VEHICLE TYPE CODE 3            6312 non-null   object \n",
      " 27  VEHICLE TYPE CODE 4            1732 non-null   object \n",
      " 28  VEHICLE TYPE CODE 5            509 non-null    object \n",
      "dtypes: float64(12), object(17)\n",
      "memory usage: 39.8+ MB\n"
     ]
    }
   ],
   "source": [
    "#Display the imported data types of all attributes\n",
    "data.info()"
   ]
  },
  {
   "cell_type": "markdown",
   "metadata": {
    "id": "lOfAWlTXvlgc"
   },
   "source": [
    "Pandas has considered the datatypes of attributes as displayed above by default, we would be converting them as per requirement(int/float) in further analysis."
   ]
  },
  {
   "cell_type": "markdown",
   "metadata": {
    "id": "Zobtvyl5vlgc"
   },
   "source": [
    "## <font color=\"red\">3: Exploratory Data Analysis (EDA)</font>\n",
    "\n",
    "In order to go on with this portion of the study, we will first run a summary statistic for each of the characteristics, look for any outliers or NULL values that could have an impact on our findings, and then provide graphical analyses for each attribute using both Matplotlib and Seaborn."
   ]
  },
  {
   "cell_type": "markdown",
   "metadata": {
    "id": "izmfJTJavlgc"
   },
   "source": [
    "To begin, we'll import the required packages/libraries and then read the data into the program as shown"
   ]
  },
  {
   "cell_type": "code",
   "execution_count": 91,
   "metadata": {
    "colab": {
     "base_uri": "https://localhost:8080/",
     "height": 446
    },
    "id": "OtxLWx3Svlgd",
    "outputId": "4731ec5b-a508-4483-a001-bbc58cd046c9"
   },
   "outputs": [
    {
     "name": "stderr",
     "output_type": "stream",
     "text": [
      "C:\\Users\\shiva\\AppData\\Local\\Temp\\ipykernel_1100\\3874038885.py:10: DtypeWarning: Columns (0,1,2,6,7,8,9,18,19,20,21,22,24,25,26,27,28) have mixed types. Specify dtype option on import or set low_memory=False.\n",
      "  data = pd.read_csv(filename)\n"
     ]
    },
    {
     "data": {
      "text/html": [
       "<div>\n",
       "<style scoped>\n",
       "    .dataframe tbody tr th:only-of-type {\n",
       "        vertical-align: middle;\n",
       "    }\n",
       "\n",
       "    .dataframe tbody tr th {\n",
       "        vertical-align: top;\n",
       "    }\n",
       "\n",
       "    .dataframe thead th {\n",
       "        text-align: right;\n",
       "    }\n",
       "</style>\n",
       "<table border=\"1\" class=\"dataframe\">\n",
       "  <thead>\n",
       "    <tr style=\"text-align: right;\">\n",
       "      <th></th>\n",
       "      <th>CRASH DATE</th>\n",
       "      <th>CRASH TIME</th>\n",
       "      <th>BOROUGH</th>\n",
       "      <th>ZIP CODE</th>\n",
       "      <th>LATITUDE</th>\n",
       "      <th>LONGITUDE</th>\n",
       "      <th>LOCATION</th>\n",
       "      <th>ON STREET NAME</th>\n",
       "      <th>CROSS STREET NAME</th>\n",
       "      <th>OFF STREET NAME</th>\n",
       "      <th>...</th>\n",
       "      <th>CONTRIBUTING FACTOR VEHICLE 2</th>\n",
       "      <th>CONTRIBUTING FACTOR VEHICLE 3</th>\n",
       "      <th>CONTRIBUTING FACTOR VEHICLE 4</th>\n",
       "      <th>CONTRIBUTING FACTOR VEHICLE 5</th>\n",
       "      <th>COLLISION_ID</th>\n",
       "      <th>VEHICLE TYPE CODE 1</th>\n",
       "      <th>VEHICLE TYPE CODE 2</th>\n",
       "      <th>VEHICLE TYPE CODE 3</th>\n",
       "      <th>VEHICLE TYPE CODE 4</th>\n",
       "      <th>VEHICLE TYPE CODE 5</th>\n",
       "    </tr>\n",
       "  </thead>\n",
       "  <tbody>\n",
       "    <tr>\n",
       "      <th>0</th>\n",
       "      <td>3/26/2022</td>\n",
       "      <td>11:45</td>\n",
       "      <td>NaN</td>\n",
       "      <td>NaN</td>\n",
       "      <td>NaN</td>\n",
       "      <td>NaN</td>\n",
       "      <td>NaN</td>\n",
       "      <td>QUEENSBORO BRIDGE UPPER</td>\n",
       "      <td>NaN</td>\n",
       "      <td>NaN</td>\n",
       "      <td>...</td>\n",
       "      <td>NaN</td>\n",
       "      <td>NaN</td>\n",
       "      <td>NaN</td>\n",
       "      <td>NaN</td>\n",
       "      <td>4513547.0</td>\n",
       "      <td>Sedan</td>\n",
       "      <td>NaN</td>\n",
       "      <td>NaN</td>\n",
       "      <td>NaN</td>\n",
       "      <td>NaN</td>\n",
       "    </tr>\n",
       "    <tr>\n",
       "      <th>1</th>\n",
       "      <td>6/29/2022</td>\n",
       "      <td>6:55</td>\n",
       "      <td>NaN</td>\n",
       "      <td>NaN</td>\n",
       "      <td>NaN</td>\n",
       "      <td>NaN</td>\n",
       "      <td>NaN</td>\n",
       "      <td>THROGS NECK BRIDGE</td>\n",
       "      <td>NaN</td>\n",
       "      <td>NaN</td>\n",
       "      <td>...</td>\n",
       "      <td>Unspecified</td>\n",
       "      <td>NaN</td>\n",
       "      <td>NaN</td>\n",
       "      <td>NaN</td>\n",
       "      <td>4541903.0</td>\n",
       "      <td>Sedan</td>\n",
       "      <td>Pick-up Truck</td>\n",
       "      <td>NaN</td>\n",
       "      <td>NaN</td>\n",
       "      <td>NaN</td>\n",
       "    </tr>\n",
       "    <tr>\n",
       "      <th>2</th>\n",
       "      <td>6/29/2022</td>\n",
       "      <td>16:00</td>\n",
       "      <td>NaN</td>\n",
       "      <td>NaN</td>\n",
       "      <td>NaN</td>\n",
       "      <td>NaN</td>\n",
       "      <td>NaN</td>\n",
       "      <td>WILLIAMSBURG BRIDGE OUTER ROADWA</td>\n",
       "      <td>NaN</td>\n",
       "      <td>NaN</td>\n",
       "      <td>...</td>\n",
       "      <td>Unspecified</td>\n",
       "      <td>NaN</td>\n",
       "      <td>NaN</td>\n",
       "      <td>NaN</td>\n",
       "      <td>4542336.0</td>\n",
       "      <td>Motorscooter</td>\n",
       "      <td>Station Wagon/Sport Utility Vehicle</td>\n",
       "      <td>NaN</td>\n",
       "      <td>NaN</td>\n",
       "      <td>NaN</td>\n",
       "    </tr>\n",
       "    <tr>\n",
       "      <th>3</th>\n",
       "      <td>7/12/2022</td>\n",
       "      <td>17:50</td>\n",
       "      <td>BROOKLYN</td>\n",
       "      <td>11225.0</td>\n",
       "      <td>40.663303</td>\n",
       "      <td>-73.96049</td>\n",
       "      <td>(40.663303, -73.96049)</td>\n",
       "      <td>NaN</td>\n",
       "      <td>NaN</td>\n",
       "      <td>44        EMPIRE BOULEVARD</td>\n",
       "      <td>...</td>\n",
       "      <td>Unspecified</td>\n",
       "      <td>NaN</td>\n",
       "      <td>NaN</td>\n",
       "      <td>NaN</td>\n",
       "      <td>4545699.0</td>\n",
       "      <td>Sedan</td>\n",
       "      <td>NaN</td>\n",
       "      <td>NaN</td>\n",
       "      <td>NaN</td>\n",
       "      <td>NaN</td>\n",
       "    </tr>\n",
       "    <tr>\n",
       "      <th>4</th>\n",
       "      <td>3/23/2022</td>\n",
       "      <td>10:00</td>\n",
       "      <td>NaN</td>\n",
       "      <td>NaN</td>\n",
       "      <td>NaN</td>\n",
       "      <td>NaN</td>\n",
       "      <td>NaN</td>\n",
       "      <td>NaN</td>\n",
       "      <td>NaN</td>\n",
       "      <td>71        EAST DRIVE</td>\n",
       "      <td>...</td>\n",
       "      <td>NaN</td>\n",
       "      <td>NaN</td>\n",
       "      <td>NaN</td>\n",
       "      <td>NaN</td>\n",
       "      <td>4512922.0</td>\n",
       "      <td>Bike</td>\n",
       "      <td>NaN</td>\n",
       "      <td>NaN</td>\n",
       "      <td>NaN</td>\n",
       "      <td>NaN</td>\n",
       "    </tr>\n",
       "  </tbody>\n",
       "</table>\n",
       "<p>5 rows × 29 columns</p>\n",
       "</div>"
      ],
      "text/plain": [
       "  CRASH DATE CRASH TIME   BOROUGH  ZIP CODE   LATITUDE  LONGITUDE  \\\n",
       "0  3/26/2022      11:45       NaN       NaN        NaN        NaN   \n",
       "1  6/29/2022       6:55       NaN       NaN        NaN        NaN   \n",
       "2  6/29/2022      16:00       NaN       NaN        NaN        NaN   \n",
       "3  7/12/2022      17:50  BROOKLYN   11225.0  40.663303  -73.96049   \n",
       "4  3/23/2022      10:00       NaN       NaN        NaN        NaN   \n",
       "\n",
       "                 LOCATION                    ON STREET NAME CROSS STREET NAME  \\\n",
       "0                     NaN           QUEENSBORO BRIDGE UPPER               NaN   \n",
       "1                     NaN                THROGS NECK BRIDGE               NaN   \n",
       "2                     NaN  WILLIAMSBURG BRIDGE OUTER ROADWA               NaN   \n",
       "3  (40.663303, -73.96049)                               NaN               NaN   \n",
       "4                     NaN                               NaN               NaN   \n",
       "\n",
       "              OFF STREET NAME  ...  CONTRIBUTING FACTOR VEHICLE 2  \\\n",
       "0                         NaN  ...                            NaN   \n",
       "1                         NaN  ...                    Unspecified   \n",
       "2                         NaN  ...                    Unspecified   \n",
       "3  44        EMPIRE BOULEVARD  ...                    Unspecified   \n",
       "4        71        EAST DRIVE  ...                            NaN   \n",
       "\n",
       "   CONTRIBUTING FACTOR VEHICLE 3  CONTRIBUTING FACTOR VEHICLE 4  \\\n",
       "0                            NaN                            NaN   \n",
       "1                            NaN                            NaN   \n",
       "2                            NaN                            NaN   \n",
       "3                            NaN                            NaN   \n",
       "4                            NaN                            NaN   \n",
       "\n",
       "   CONTRIBUTING FACTOR VEHICLE 5  COLLISION_ID  VEHICLE TYPE CODE 1  \\\n",
       "0                            NaN     4513547.0                Sedan   \n",
       "1                            NaN     4541903.0                Sedan   \n",
       "2                            NaN     4542336.0         Motorscooter   \n",
       "3                            NaN     4545699.0                Sedan   \n",
       "4                            NaN     4512922.0                 Bike   \n",
       "\n",
       "                   VEHICLE TYPE CODE 2  VEHICLE TYPE CODE 3  \\\n",
       "0                                  NaN                  NaN   \n",
       "1                        Pick-up Truck                  NaN   \n",
       "2  Station Wagon/Sport Utility Vehicle                  NaN   \n",
       "3                                  NaN                  NaN   \n",
       "4                                  NaN                  NaN   \n",
       "\n",
       "  VEHICLE TYPE CODE 4 VEHICLE TYPE CODE 5  \n",
       "0                 NaN                 NaN  \n",
       "1                 NaN                 NaN  \n",
       "2                 NaN                 NaN  \n",
       "3                 NaN                 NaN  \n",
       "4                 NaN                 NaN  \n",
       "\n",
       "[5 rows x 29 columns]"
      ]
     },
     "execution_count": 91,
     "metadata": {},
     "output_type": "execute_result"
    }
   ],
   "source": [
    "#Import packages/libraries\n",
    "import pandas as pd\n",
    "import numpy as np\n",
    "%matplotlib inline\n",
    "import matplotlib.pyplot as plt\n",
    "import seaborn as sns\n",
    "\n",
    "# Importing data from git repo\n",
    "filename = \"https://raw.githubusercontent.com/shivakrishna67/Python-Project/main/Motor_veh_collisions.csv\"\n",
    "data = pd.read_csv(filename)\n",
    "#displaying the first 5 observations of the data\n",
    "data.head()"
   ]
  },
  {
   "cell_type": "code",
   "execution_count": 92,
   "metadata": {
    "id": "xkedvOCu-7iC"
   },
   "outputs": [],
   "source": [
    "#lets drop the attributes that we are not considering to answer the above mentioned research questions\n",
    "data.drop(['ZIP CODE','LATITUDE','LONGITUDE','LOCATION','CROSS STREET NAME','OFF STREET NAME','CONTRIBUTING FACTOR VEHICLE 2','CONTRIBUTING FACTOR VEHICLE 3','CONTRIBUTING FACTOR VEHICLE 4','CONTRIBUTING FACTOR VEHICLE 5','VEHICLE TYPE CODE 2','VEHICLE TYPE CODE 3','VEHICLE TYPE CODE 4','VEHICLE TYPE CODE 5'],axis=1,inplace=True)"
   ]
  },
  {
   "cell_type": "code",
   "execution_count": 93,
   "metadata": {
    "colab": {
     "base_uri": "https://localhost:8080/",
     "height": 582
    },
    "id": "p2ijGiaCAMzm",
    "outputId": "61c4f66f-f2b6-460e-f2a0-6b1e1fd07020"
   },
   "outputs": [
    {
     "data": {
      "text/html": [
       "<div>\n",
       "<style scoped>\n",
       "    .dataframe tbody tr th:only-of-type {\n",
       "        vertical-align: middle;\n",
       "    }\n",
       "\n",
       "    .dataframe tbody tr th {\n",
       "        vertical-align: top;\n",
       "    }\n",
       "\n",
       "    .dataframe thead th {\n",
       "        text-align: right;\n",
       "    }\n",
       "</style>\n",
       "<table border=\"1\" class=\"dataframe\">\n",
       "  <thead>\n",
       "    <tr style=\"text-align: right;\">\n",
       "      <th></th>\n",
       "      <th>CRASH DATE</th>\n",
       "      <th>CRASH TIME</th>\n",
       "      <th>BOROUGH</th>\n",
       "      <th>ON STREET NAME</th>\n",
       "      <th>NUMBER OF PERSONS INJURED</th>\n",
       "      <th>NUMBER OF PERSONS KILLED</th>\n",
       "      <th>NUMBER OF PEDESTRIANS INJURED</th>\n",
       "      <th>NUMBER OF PEDESTRIANS KILLED</th>\n",
       "      <th>NUMBER OF CYCLIST INJURED</th>\n",
       "      <th>NUMBER OF CYCLIST KILLED</th>\n",
       "      <th>NUMBER OF MOTORIST INJURED</th>\n",
       "      <th>NUMBER OF MOTORIST KILLED</th>\n",
       "      <th>CONTRIBUTING FACTOR VEHICLE 1</th>\n",
       "      <th>COLLISION_ID</th>\n",
       "      <th>VEHICLE TYPE CODE 1</th>\n",
       "    </tr>\n",
       "  </thead>\n",
       "  <tbody>\n",
       "    <tr>\n",
       "      <th>0</th>\n",
       "      <td>3/26/2022</td>\n",
       "      <td>11:45</td>\n",
       "      <td>NaN</td>\n",
       "      <td>QUEENSBORO BRIDGE UPPER</td>\n",
       "      <td>1.0</td>\n",
       "      <td>0.0</td>\n",
       "      <td>0.0</td>\n",
       "      <td>0.0</td>\n",
       "      <td>0.0</td>\n",
       "      <td>0.0</td>\n",
       "      <td>1.0</td>\n",
       "      <td>0.0</td>\n",
       "      <td>Pavement Slippery</td>\n",
       "      <td>4513547.0</td>\n",
       "      <td>Sedan</td>\n",
       "    </tr>\n",
       "    <tr>\n",
       "      <th>1</th>\n",
       "      <td>6/29/2022</td>\n",
       "      <td>6:55</td>\n",
       "      <td>NaN</td>\n",
       "      <td>THROGS NECK BRIDGE</td>\n",
       "      <td>0.0</td>\n",
       "      <td>0.0</td>\n",
       "      <td>0.0</td>\n",
       "      <td>0.0</td>\n",
       "      <td>0.0</td>\n",
       "      <td>0.0</td>\n",
       "      <td>0.0</td>\n",
       "      <td>0.0</td>\n",
       "      <td>Following Too Closely</td>\n",
       "      <td>4541903.0</td>\n",
       "      <td>Sedan</td>\n",
       "    </tr>\n",
       "    <tr>\n",
       "      <th>2</th>\n",
       "      <td>6/29/2022</td>\n",
       "      <td>16:00</td>\n",
       "      <td>NaN</td>\n",
       "      <td>WILLIAMSBURG BRIDGE OUTER ROADWA</td>\n",
       "      <td>1.0</td>\n",
       "      <td>0.0</td>\n",
       "      <td>0.0</td>\n",
       "      <td>0.0</td>\n",
       "      <td>0.0</td>\n",
       "      <td>0.0</td>\n",
       "      <td>1.0</td>\n",
       "      <td>0.0</td>\n",
       "      <td>Driver Inattention/Distraction</td>\n",
       "      <td>4542336.0</td>\n",
       "      <td>Motorscooter</td>\n",
       "    </tr>\n",
       "    <tr>\n",
       "      <th>3</th>\n",
       "      <td>7/12/2022</td>\n",
       "      <td>17:50</td>\n",
       "      <td>BROOKLYN</td>\n",
       "      <td>NaN</td>\n",
       "      <td>0.0</td>\n",
       "      <td>0.0</td>\n",
       "      <td>0.0</td>\n",
       "      <td>0.0</td>\n",
       "      <td>0.0</td>\n",
       "      <td>0.0</td>\n",
       "      <td>0.0</td>\n",
       "      <td>0.0</td>\n",
       "      <td>Oversized Vehicle</td>\n",
       "      <td>4545699.0</td>\n",
       "      <td>Sedan</td>\n",
       "    </tr>\n",
       "    <tr>\n",
       "      <th>4</th>\n",
       "      <td>3/23/2022</td>\n",
       "      <td>10:00</td>\n",
       "      <td>NaN</td>\n",
       "      <td>NaN</td>\n",
       "      <td>0.0</td>\n",
       "      <td>0.0</td>\n",
       "      <td>0.0</td>\n",
       "      <td>0.0</td>\n",
       "      <td>0.0</td>\n",
       "      <td>0.0</td>\n",
       "      <td>0.0</td>\n",
       "      <td>0.0</td>\n",
       "      <td>Pedestrian/Bicyclist/Other Pedestrian Error/Co...</td>\n",
       "      <td>4512922.0</td>\n",
       "      <td>Bike</td>\n",
       "    </tr>\n",
       "    <tr>\n",
       "      <th>...</th>\n",
       "      <td>...</td>\n",
       "      <td>...</td>\n",
       "      <td>...</td>\n",
       "      <td>...</td>\n",
       "      <td>...</td>\n",
       "      <td>...</td>\n",
       "      <td>...</td>\n",
       "      <td>...</td>\n",
       "      <td>...</td>\n",
       "      <td>...</td>\n",
       "      <td>...</td>\n",
       "      <td>...</td>\n",
       "      <td>...</td>\n",
       "      <td>...</td>\n",
       "      <td>...</td>\n",
       "    </tr>\n",
       "    <tr>\n",
       "      <th>180025</th>\n",
       "      <td>NaN</td>\n",
       "      <td>NaN</td>\n",
       "      <td>NaN</td>\n",
       "      <td>NaN</td>\n",
       "      <td>NaN</td>\n",
       "      <td>NaN</td>\n",
       "      <td>NaN</td>\n",
       "      <td>NaN</td>\n",
       "      <td>NaN</td>\n",
       "      <td>NaN</td>\n",
       "      <td>NaN</td>\n",
       "      <td>NaN</td>\n",
       "      <td>NaN</td>\n",
       "      <td>NaN</td>\n",
       "      <td>NaN</td>\n",
       "    </tr>\n",
       "    <tr>\n",
       "      <th>180026</th>\n",
       "      <td>NaN</td>\n",
       "      <td>NaN</td>\n",
       "      <td>NaN</td>\n",
       "      <td>NaN</td>\n",
       "      <td>NaN</td>\n",
       "      <td>NaN</td>\n",
       "      <td>NaN</td>\n",
       "      <td>NaN</td>\n",
       "      <td>NaN</td>\n",
       "      <td>NaN</td>\n",
       "      <td>NaN</td>\n",
       "      <td>NaN</td>\n",
       "      <td>NaN</td>\n",
       "      <td>NaN</td>\n",
       "      <td>NaN</td>\n",
       "    </tr>\n",
       "    <tr>\n",
       "      <th>180027</th>\n",
       "      <td>NaN</td>\n",
       "      <td>NaN</td>\n",
       "      <td>NaN</td>\n",
       "      <td>NaN</td>\n",
       "      <td>NaN</td>\n",
       "      <td>NaN</td>\n",
       "      <td>NaN</td>\n",
       "      <td>NaN</td>\n",
       "      <td>NaN</td>\n",
       "      <td>NaN</td>\n",
       "      <td>NaN</td>\n",
       "      <td>NaN</td>\n",
       "      <td>NaN</td>\n",
       "      <td>NaN</td>\n",
       "      <td>NaN</td>\n",
       "    </tr>\n",
       "    <tr>\n",
       "      <th>180028</th>\n",
       "      <td>NaN</td>\n",
       "      <td>NaN</td>\n",
       "      <td>NaN</td>\n",
       "      <td>NaN</td>\n",
       "      <td>NaN</td>\n",
       "      <td>NaN</td>\n",
       "      <td>NaN</td>\n",
       "      <td>NaN</td>\n",
       "      <td>NaN</td>\n",
       "      <td>NaN</td>\n",
       "      <td>NaN</td>\n",
       "      <td>NaN</td>\n",
       "      <td>NaN</td>\n",
       "      <td>NaN</td>\n",
       "      <td>NaN</td>\n",
       "    </tr>\n",
       "    <tr>\n",
       "      <th>180029</th>\n",
       "      <td>NaN</td>\n",
       "      <td>NaN</td>\n",
       "      <td>NaN</td>\n",
       "      <td>NaN</td>\n",
       "      <td>NaN</td>\n",
       "      <td>NaN</td>\n",
       "      <td>NaN</td>\n",
       "      <td>NaN</td>\n",
       "      <td>NaN</td>\n",
       "      <td>NaN</td>\n",
       "      <td>NaN</td>\n",
       "      <td>NaN</td>\n",
       "      <td>NaN</td>\n",
       "      <td>NaN</td>\n",
       "      <td>NaN</td>\n",
       "    </tr>\n",
       "  </tbody>\n",
       "</table>\n",
       "<p>180030 rows × 15 columns</p>\n",
       "</div>"
      ],
      "text/plain": [
       "       CRASH DATE CRASH TIME   BOROUGH                    ON STREET NAME  \\\n",
       "0       3/26/2022      11:45       NaN           QUEENSBORO BRIDGE UPPER   \n",
       "1       6/29/2022       6:55       NaN                THROGS NECK BRIDGE   \n",
       "2       6/29/2022      16:00       NaN  WILLIAMSBURG BRIDGE OUTER ROADWA   \n",
       "3       7/12/2022      17:50  BROOKLYN                               NaN   \n",
       "4       3/23/2022      10:00       NaN                               NaN   \n",
       "...           ...        ...       ...                               ...   \n",
       "180025        NaN        NaN       NaN                               NaN   \n",
       "180026        NaN        NaN       NaN                               NaN   \n",
       "180027        NaN        NaN       NaN                               NaN   \n",
       "180028        NaN        NaN       NaN                               NaN   \n",
       "180029        NaN        NaN       NaN                               NaN   \n",
       "\n",
       "        NUMBER OF PERSONS INJURED  NUMBER OF PERSONS KILLED  \\\n",
       "0                             1.0                       0.0   \n",
       "1                             0.0                       0.0   \n",
       "2                             1.0                       0.0   \n",
       "3                             0.0                       0.0   \n",
       "4                             0.0                       0.0   \n",
       "...                           ...                       ...   \n",
       "180025                        NaN                       NaN   \n",
       "180026                        NaN                       NaN   \n",
       "180027                        NaN                       NaN   \n",
       "180028                        NaN                       NaN   \n",
       "180029                        NaN                       NaN   \n",
       "\n",
       "        NUMBER OF PEDESTRIANS INJURED  NUMBER OF PEDESTRIANS KILLED  \\\n",
       "0                                 0.0                           0.0   \n",
       "1                                 0.0                           0.0   \n",
       "2                                 0.0                           0.0   \n",
       "3                                 0.0                           0.0   \n",
       "4                                 0.0                           0.0   \n",
       "...                               ...                           ...   \n",
       "180025                            NaN                           NaN   \n",
       "180026                            NaN                           NaN   \n",
       "180027                            NaN                           NaN   \n",
       "180028                            NaN                           NaN   \n",
       "180029                            NaN                           NaN   \n",
       "\n",
       "        NUMBER OF CYCLIST INJURED  NUMBER OF CYCLIST KILLED  \\\n",
       "0                             0.0                       0.0   \n",
       "1                             0.0                       0.0   \n",
       "2                             0.0                       0.0   \n",
       "3                             0.0                       0.0   \n",
       "4                             0.0                       0.0   \n",
       "...                           ...                       ...   \n",
       "180025                        NaN                       NaN   \n",
       "180026                        NaN                       NaN   \n",
       "180027                        NaN                       NaN   \n",
       "180028                        NaN                       NaN   \n",
       "180029                        NaN                       NaN   \n",
       "\n",
       "        NUMBER OF MOTORIST INJURED  NUMBER OF MOTORIST KILLED  \\\n",
       "0                              1.0                        0.0   \n",
       "1                              0.0                        0.0   \n",
       "2                              1.0                        0.0   \n",
       "3                              0.0                        0.0   \n",
       "4                              0.0                        0.0   \n",
       "...                            ...                        ...   \n",
       "180025                         NaN                        NaN   \n",
       "180026                         NaN                        NaN   \n",
       "180027                         NaN                        NaN   \n",
       "180028                         NaN                        NaN   \n",
       "180029                         NaN                        NaN   \n",
       "\n",
       "                            CONTRIBUTING FACTOR VEHICLE 1  COLLISION_ID  \\\n",
       "0                                       Pavement Slippery     4513547.0   \n",
       "1                                   Following Too Closely     4541903.0   \n",
       "2                          Driver Inattention/Distraction     4542336.0   \n",
       "3                                       Oversized Vehicle     4545699.0   \n",
       "4       Pedestrian/Bicyclist/Other Pedestrian Error/Co...     4512922.0   \n",
       "...                                                   ...           ...   \n",
       "180025                                                NaN           NaN   \n",
       "180026                                                NaN           NaN   \n",
       "180027                                                NaN           NaN   \n",
       "180028                                                NaN           NaN   \n",
       "180029                                                NaN           NaN   \n",
       "\n",
       "       VEHICLE TYPE CODE 1  \n",
       "0                    Sedan  \n",
       "1                    Sedan  \n",
       "2             Motorscooter  \n",
       "3                    Sedan  \n",
       "4                     Bike  \n",
       "...                    ...  \n",
       "180025                 NaN  \n",
       "180026                 NaN  \n",
       "180027                 NaN  \n",
       "180028                 NaN  \n",
       "180029                 NaN  \n",
       "\n",
       "[180030 rows x 15 columns]"
      ]
     },
     "execution_count": 93,
     "metadata": {},
     "output_type": "execute_result"
    }
   ],
   "source": [
    "#data after dropping the unwanted attributes\n",
    "data"
   ]
  },
  {
   "cell_type": "markdown",
   "metadata": {
    "id": "jmtv08ySvlgd"
   },
   "source": [
    "Since we've successfully imported the data, we'll proceed to look through the data if there are null values. Null values may impact our research so we'll have to be keen"
   ]
  },
  {
   "cell_type": "code",
   "execution_count": 94,
   "metadata": {
    "colab": {
     "base_uri": "https://localhost:8080/"
    },
    "id": "iDyXNvWFvlgd",
    "outputId": "1b7236bf-87fa-4df2-8239-df0a4f85b6e3"
   },
   "outputs": [
    {
     "data": {
      "text/plain": [
       "CRASH DATE                       110524\n",
       "CRASH TIME                       110524\n",
       "BOROUGH                          133991\n",
       "ON STREET NAME                   129778\n",
       "NUMBER OF PERSONS INJURED        110524\n",
       "NUMBER OF PERSONS KILLED         110524\n",
       "NUMBER OF PEDESTRIANS INJURED    110524\n",
       "NUMBER OF PEDESTRIANS KILLED     110524\n",
       "NUMBER OF CYCLIST INJURED        110524\n",
       "NUMBER OF CYCLIST KILLED         110524\n",
       "NUMBER OF MOTORIST INJURED       110524\n",
       "NUMBER OF MOTORIST KILLED        110524\n",
       "CONTRIBUTING FACTOR VEHICLE 1    110897\n",
       "COLLISION_ID                     110524\n",
       "VEHICLE TYPE CODE 1              111422\n",
       "dtype: int64"
      ]
     },
     "execution_count": 94,
     "metadata": {},
     "output_type": "execute_result"
    }
   ],
   "source": [
    "#Looking for the number of null values\n",
    "data.isnull().sum()"
   ]
  },
  {
   "cell_type": "markdown",
   "metadata": {
    "id": "XpU47S8vvlgd"
   },
   "source": [
    "From the above analysis we can see that the number of null values isn't that huge compared to our size of the data, we'll drop the record that contain null values to remain with consistent data"
   ]
  },
  {
   "cell_type": "code",
   "execution_count": 95,
   "metadata": {
    "colab": {
     "base_uri": "https://localhost:8080/"
    },
    "id": "PH6AvjBRvlge",
    "outputId": "194ee750-934a-4882-8d86-e804ccaeda8f"
   },
   "outputs": [
    {
     "data": {
      "text/plain": [
       "CRASH DATE                       0\n",
       "CRASH TIME                       0\n",
       "BOROUGH                          0\n",
       "ON STREET NAME                   0\n",
       "NUMBER OF PERSONS INJURED        0\n",
       "NUMBER OF PERSONS KILLED         0\n",
       "NUMBER OF PEDESTRIANS INJURED    0\n",
       "NUMBER OF PEDESTRIANS KILLED     0\n",
       "NUMBER OF CYCLIST INJURED        0\n",
       "NUMBER OF CYCLIST KILLED         0\n",
       "NUMBER OF MOTORIST INJURED       0\n",
       "NUMBER OF MOTORIST KILLED        0\n",
       "CONTRIBUTING FACTOR VEHICLE 1    0\n",
       "COLLISION_ID                     0\n",
       "VEHICLE TYPE CODE 1              0\n",
       "dtype: int64"
      ]
     },
     "execution_count": 95,
     "metadata": {},
     "output_type": "execute_result"
    }
   ],
   "source": [
    "# removing records with null values\n",
    "data.dropna(inplace=True)\n",
    "\n",
    "data.isnull().sum()"
   ]
  },
  {
   "cell_type": "code",
   "execution_count": 96,
   "metadata": {
    "colab": {
     "base_uri": "https://localhost:8080/",
     "height": 704
    },
    "id": "QUCpAx6xvlge",
    "outputId": "4e927ce0-0211-4887-f225-e7becb4321f0"
   },
   "outputs": [
    {
     "data": {
      "text/html": [
       "<div>\n",
       "<style scoped>\n",
       "    .dataframe tbody tr th:only-of-type {\n",
       "        vertical-align: middle;\n",
       "    }\n",
       "\n",
       "    .dataframe tbody tr th {\n",
       "        vertical-align: top;\n",
       "    }\n",
       "\n",
       "    .dataframe thead th {\n",
       "        text-align: right;\n",
       "    }\n",
       "</style>\n",
       "<table border=\"1\" class=\"dataframe\">\n",
       "  <thead>\n",
       "    <tr style=\"text-align: right;\">\n",
       "      <th></th>\n",
       "      <th>CRASH DATE</th>\n",
       "      <th>CRASH TIME</th>\n",
       "      <th>BOROUGH</th>\n",
       "      <th>ON STREET NAME</th>\n",
       "      <th>NUMBER OF PERSONS INJURED</th>\n",
       "      <th>NUMBER OF PERSONS KILLED</th>\n",
       "      <th>NUMBER OF PEDESTRIANS INJURED</th>\n",
       "      <th>NUMBER OF PEDESTRIANS KILLED</th>\n",
       "      <th>NUMBER OF CYCLIST INJURED</th>\n",
       "      <th>NUMBER OF CYCLIST KILLED</th>\n",
       "      <th>NUMBER OF MOTORIST INJURED</th>\n",
       "      <th>NUMBER OF MOTORIST KILLED</th>\n",
       "      <th>CONTRIBUTING FACTOR VEHICLE 1</th>\n",
       "      <th>COLLISION_ID</th>\n",
       "      <th>VEHICLE TYPE CODE 1</th>\n",
       "    </tr>\n",
       "  </thead>\n",
       "  <tbody>\n",
       "    <tr>\n",
       "      <th>10</th>\n",
       "      <td>4/24/2022</td>\n",
       "      <td>21:40</td>\n",
       "      <td>BRONX</td>\n",
       "      <td>BOSCOBEL PLACE</td>\n",
       "      <td>0.0</td>\n",
       "      <td>0.0</td>\n",
       "      <td>0.0</td>\n",
       "      <td>0.0</td>\n",
       "      <td>0.0</td>\n",
       "      <td>0.0</td>\n",
       "      <td>0.0</td>\n",
       "      <td>0.0</td>\n",
       "      <td>Alcohol Involvement</td>\n",
       "      <td>4522156.0</td>\n",
       "      <td>Taxi</td>\n",
       "    </tr>\n",
       "    <tr>\n",
       "      <th>11</th>\n",
       "      <td>4/24/2022</td>\n",
       "      <td>17:45</td>\n",
       "      <td>BRONX</td>\n",
       "      <td>BRONX RIVER PARKWAY</td>\n",
       "      <td>0.0</td>\n",
       "      <td>0.0</td>\n",
       "      <td>0.0</td>\n",
       "      <td>0.0</td>\n",
       "      <td>0.0</td>\n",
       "      <td>0.0</td>\n",
       "      <td>0.0</td>\n",
       "      <td>0.0</td>\n",
       "      <td>Driver Inattention/Distraction</td>\n",
       "      <td>4521633.0</td>\n",
       "      <td>Sedan</td>\n",
       "    </tr>\n",
       "    <tr>\n",
       "      <th>14</th>\n",
       "      <td>4/24/2022</td>\n",
       "      <td>0:00</td>\n",
       "      <td>BRONX</td>\n",
       "      <td>MAJOR DEEGAN EXPRESSWAY</td>\n",
       "      <td>0.0</td>\n",
       "      <td>0.0</td>\n",
       "      <td>0.0</td>\n",
       "      <td>0.0</td>\n",
       "      <td>0.0</td>\n",
       "      <td>0.0</td>\n",
       "      <td>0.0</td>\n",
       "      <td>0.0</td>\n",
       "      <td>Driver Inattention/Distraction</td>\n",
       "      <td>4521801.0</td>\n",
       "      <td>Sedan</td>\n",
       "    </tr>\n",
       "    <tr>\n",
       "      <th>16</th>\n",
       "      <td>4/24/2022</td>\n",
       "      <td>15:35</td>\n",
       "      <td>MANHATTAN</td>\n",
       "      <td>WEST 56 STREET</td>\n",
       "      <td>1.0</td>\n",
       "      <td>0.0</td>\n",
       "      <td>0.0</td>\n",
       "      <td>0.0</td>\n",
       "      <td>1.0</td>\n",
       "      <td>0.0</td>\n",
       "      <td>0.0</td>\n",
       "      <td>0.0</td>\n",
       "      <td>View Obstructed/Limited</td>\n",
       "      <td>4521853.0</td>\n",
       "      <td>Station Wagon/Sport Utility Vehicle</td>\n",
       "    </tr>\n",
       "    <tr>\n",
       "      <th>17</th>\n",
       "      <td>4/22/2022</td>\n",
       "      <td>12:00</td>\n",
       "      <td>BROOKLYN</td>\n",
       "      <td>AVENUE J</td>\n",
       "      <td>1.0</td>\n",
       "      <td>0.0</td>\n",
       "      <td>0.0</td>\n",
       "      <td>0.0</td>\n",
       "      <td>0.0</td>\n",
       "      <td>0.0</td>\n",
       "      <td>1.0</td>\n",
       "      <td>0.0</td>\n",
       "      <td>Unspecified</td>\n",
       "      <td>4522228.0</td>\n",
       "      <td>Sedan</td>\n",
       "    </tr>\n",
       "    <tr>\n",
       "      <th>...</th>\n",
       "      <td>...</td>\n",
       "      <td>...</td>\n",
       "      <td>...</td>\n",
       "      <td>...</td>\n",
       "      <td>...</td>\n",
       "      <td>...</td>\n",
       "      <td>...</td>\n",
       "      <td>...</td>\n",
       "      <td>...</td>\n",
       "      <td>...</td>\n",
       "      <td>...</td>\n",
       "      <td>...</td>\n",
       "      <td>...</td>\n",
       "      <td>...</td>\n",
       "      <td>...</td>\n",
       "    </tr>\n",
       "    <tr>\n",
       "      <th>69497</th>\n",
       "      <td>9/3/2022</td>\n",
       "      <td>18:05</td>\n",
       "      <td>BROOKLYN</td>\n",
       "      <td>AVENUE J</td>\n",
       "      <td>1.0</td>\n",
       "      <td>0.0</td>\n",
       "      <td>1.0</td>\n",
       "      <td>0.0</td>\n",
       "      <td>0.0</td>\n",
       "      <td>0.0</td>\n",
       "      <td>0.0</td>\n",
       "      <td>0.0</td>\n",
       "      <td>Unspecified</td>\n",
       "      <td>4561869.0</td>\n",
       "      <td>Sedan</td>\n",
       "    </tr>\n",
       "    <tr>\n",
       "      <th>69498</th>\n",
       "      <td>9/3/2022</td>\n",
       "      <td>20:14</td>\n",
       "      <td>BROOKLYN</td>\n",
       "      <td>Atlantic Avenue</td>\n",
       "      <td>1.0</td>\n",
       "      <td>0.0</td>\n",
       "      <td>0.0</td>\n",
       "      <td>0.0</td>\n",
       "      <td>0.0</td>\n",
       "      <td>0.0</td>\n",
       "      <td>1.0</td>\n",
       "      <td>0.0</td>\n",
       "      <td>Illnes</td>\n",
       "      <td>4561919.0</td>\n",
       "      <td>Sedan</td>\n",
       "    </tr>\n",
       "    <tr>\n",
       "      <th>69499</th>\n",
       "      <td>8/7/2022</td>\n",
       "      <td>12:48</td>\n",
       "      <td>BRONX</td>\n",
       "      <td>EAST 232 STREET</td>\n",
       "      <td>0.0</td>\n",
       "      <td>0.0</td>\n",
       "      <td>0.0</td>\n",
       "      <td>0.0</td>\n",
       "      <td>0.0</td>\n",
       "      <td>0.0</td>\n",
       "      <td>0.0</td>\n",
       "      <td>0.0</td>\n",
       "      <td>Driver Inattention/Distraction</td>\n",
       "      <td>4561755.0</td>\n",
       "      <td>Sedan</td>\n",
       "    </tr>\n",
       "    <tr>\n",
       "      <th>69501</th>\n",
       "      <td>9/5/2022</td>\n",
       "      <td>11:46</td>\n",
       "      <td>QUEENS</td>\n",
       "      <td>126 STREET</td>\n",
       "      <td>0.0</td>\n",
       "      <td>0.0</td>\n",
       "      <td>0.0</td>\n",
       "      <td>0.0</td>\n",
       "      <td>0.0</td>\n",
       "      <td>0.0</td>\n",
       "      <td>0.0</td>\n",
       "      <td>0.0</td>\n",
       "      <td>Failure to Yield Right-of-Way</td>\n",
       "      <td>4561260.0</td>\n",
       "      <td>Sedan</td>\n",
       "    </tr>\n",
       "    <tr>\n",
       "      <th>69503</th>\n",
       "      <td>9/3/2022</td>\n",
       "      <td>7:55</td>\n",
       "      <td>QUEENS</td>\n",
       "      <td>MYRTLE AVENUE</td>\n",
       "      <td>1.0</td>\n",
       "      <td>0.0</td>\n",
       "      <td>0.0</td>\n",
       "      <td>0.0</td>\n",
       "      <td>1.0</td>\n",
       "      <td>0.0</td>\n",
       "      <td>0.0</td>\n",
       "      <td>0.0</td>\n",
       "      <td>Following Too Closely</td>\n",
       "      <td>4561655.0</td>\n",
       "      <td>Station Wagon/Sport Utility Vehicle</td>\n",
       "    </tr>\n",
       "  </tbody>\n",
       "</table>\n",
       "<p>26968 rows × 15 columns</p>\n",
       "</div>"
      ],
      "text/plain": [
       "      CRASH DATE CRASH TIME    BOROUGH           ON STREET NAME  \\\n",
       "10     4/24/2022      21:40      BRONX           BOSCOBEL PLACE   \n",
       "11     4/24/2022      17:45      BRONX      BRONX RIVER PARKWAY   \n",
       "14     4/24/2022       0:00      BRONX  MAJOR DEEGAN EXPRESSWAY   \n",
       "16     4/24/2022      15:35  MANHATTAN           WEST 56 STREET   \n",
       "17     4/22/2022      12:00   BROOKLYN                 AVENUE J   \n",
       "...          ...        ...        ...                      ...   \n",
       "69497   9/3/2022      18:05   BROOKLYN                 AVENUE J   \n",
       "69498   9/3/2022      20:14   BROOKLYN          Atlantic Avenue   \n",
       "69499   8/7/2022      12:48      BRONX          EAST 232 STREET   \n",
       "69501   9/5/2022      11:46     QUEENS               126 STREET   \n",
       "69503   9/3/2022       7:55     QUEENS            MYRTLE AVENUE   \n",
       "\n",
       "       NUMBER OF PERSONS INJURED  NUMBER OF PERSONS KILLED  \\\n",
       "10                           0.0                       0.0   \n",
       "11                           0.0                       0.0   \n",
       "14                           0.0                       0.0   \n",
       "16                           1.0                       0.0   \n",
       "17                           1.0                       0.0   \n",
       "...                          ...                       ...   \n",
       "69497                        1.0                       0.0   \n",
       "69498                        1.0                       0.0   \n",
       "69499                        0.0                       0.0   \n",
       "69501                        0.0                       0.0   \n",
       "69503                        1.0                       0.0   \n",
       "\n",
       "       NUMBER OF PEDESTRIANS INJURED  NUMBER OF PEDESTRIANS KILLED  \\\n",
       "10                               0.0                           0.0   \n",
       "11                               0.0                           0.0   \n",
       "14                               0.0                           0.0   \n",
       "16                               0.0                           0.0   \n",
       "17                               0.0                           0.0   \n",
       "...                              ...                           ...   \n",
       "69497                            1.0                           0.0   \n",
       "69498                            0.0                           0.0   \n",
       "69499                            0.0                           0.0   \n",
       "69501                            0.0                           0.0   \n",
       "69503                            0.0                           0.0   \n",
       "\n",
       "       NUMBER OF CYCLIST INJURED  NUMBER OF CYCLIST KILLED  \\\n",
       "10                           0.0                       0.0   \n",
       "11                           0.0                       0.0   \n",
       "14                           0.0                       0.0   \n",
       "16                           1.0                       0.0   \n",
       "17                           0.0                       0.0   \n",
       "...                          ...                       ...   \n",
       "69497                        0.0                       0.0   \n",
       "69498                        0.0                       0.0   \n",
       "69499                        0.0                       0.0   \n",
       "69501                        0.0                       0.0   \n",
       "69503                        1.0                       0.0   \n",
       "\n",
       "       NUMBER OF MOTORIST INJURED  NUMBER OF MOTORIST KILLED  \\\n",
       "10                            0.0                        0.0   \n",
       "11                            0.0                        0.0   \n",
       "14                            0.0                        0.0   \n",
       "16                            0.0                        0.0   \n",
       "17                            1.0                        0.0   \n",
       "...                           ...                        ...   \n",
       "69497                         0.0                        0.0   \n",
       "69498                         1.0                        0.0   \n",
       "69499                         0.0                        0.0   \n",
       "69501                         0.0                        0.0   \n",
       "69503                         0.0                        0.0   \n",
       "\n",
       "        CONTRIBUTING FACTOR VEHICLE 1  COLLISION_ID  \\\n",
       "10                Alcohol Involvement     4522156.0   \n",
       "11     Driver Inattention/Distraction     4521633.0   \n",
       "14     Driver Inattention/Distraction     4521801.0   \n",
       "16            View Obstructed/Limited     4521853.0   \n",
       "17                        Unspecified     4522228.0   \n",
       "...                               ...           ...   \n",
       "69497                     Unspecified     4561869.0   \n",
       "69498                          Illnes     4561919.0   \n",
       "69499  Driver Inattention/Distraction     4561755.0   \n",
       "69501   Failure to Yield Right-of-Way     4561260.0   \n",
       "69503           Following Too Closely     4561655.0   \n",
       "\n",
       "                       VEHICLE TYPE CODE 1  \n",
       "10                                    Taxi  \n",
       "11                                   Sedan  \n",
       "14                                   Sedan  \n",
       "16     Station Wagon/Sport Utility Vehicle  \n",
       "17                                   Sedan  \n",
       "...                                    ...  \n",
       "69497                                Sedan  \n",
       "69498                                Sedan  \n",
       "69499                                Sedan  \n",
       "69501                                Sedan  \n",
       "69503  Station Wagon/Sport Utility Vehicle  \n",
       "\n",
       "[26968 rows x 15 columns]"
      ]
     },
     "execution_count": 96,
     "metadata": {},
     "output_type": "execute_result"
    }
   ],
   "source": [
    "#perform summary statistics on deaths\n",
    "data"
   ]
  },
  {
   "cell_type": "markdown",
   "metadata": {
    "id": "2Wopp-Tpvlge"
   },
   "source": [
    "The above analysis shows that there is a value '.'. We can replace it with a zero"
   ]
  },
  {
   "cell_type": "code",
   "execution_count": 97,
   "metadata": {
    "colab": {
     "base_uri": "https://localhost:8080/",
     "height": 355
    },
    "id": "CGzNFyokvlge",
    "outputId": "138ff59b-db59-4cc4-b416-bf55fffa2095"
   },
   "outputs": [
    {
     "data": {
      "text/html": [
       "<div>\n",
       "<style scoped>\n",
       "    .dataframe tbody tr th:only-of-type {\n",
       "        vertical-align: middle;\n",
       "    }\n",
       "\n",
       "    .dataframe tbody tr th {\n",
       "        vertical-align: top;\n",
       "    }\n",
       "\n",
       "    .dataframe thead th {\n",
       "        text-align: right;\n",
       "    }\n",
       "</style>\n",
       "<table border=\"1\" class=\"dataframe\">\n",
       "  <thead>\n",
       "    <tr style=\"text-align: right;\">\n",
       "      <th></th>\n",
       "      <th>NUMBER OF PERSONS INJURED</th>\n",
       "      <th>NUMBER OF PERSONS KILLED</th>\n",
       "      <th>NUMBER OF PEDESTRIANS INJURED</th>\n",
       "      <th>NUMBER OF PEDESTRIANS KILLED</th>\n",
       "      <th>NUMBER OF CYCLIST INJURED</th>\n",
       "      <th>NUMBER OF CYCLIST KILLED</th>\n",
       "      <th>NUMBER OF MOTORIST INJURED</th>\n",
       "      <th>NUMBER OF MOTORIST KILLED</th>\n",
       "      <th>COLLISION_ID</th>\n",
       "    </tr>\n",
       "  </thead>\n",
       "  <tbody>\n",
       "    <tr>\n",
       "      <th>count</th>\n",
       "      <td>26968.000000</td>\n",
       "      <td>26968.000000</td>\n",
       "      <td>26968.000000</td>\n",
       "      <td>26968.000000</td>\n",
       "      <td>26968.000000</td>\n",
       "      <td>26968.000000</td>\n",
       "      <td>26968.000000</td>\n",
       "      <td>26968.000000</td>\n",
       "      <td>2.696800e+04</td>\n",
       "    </tr>\n",
       "    <tr>\n",
       "      <th>mean</th>\n",
       "      <td>0.570528</td>\n",
       "      <td>0.003004</td>\n",
       "      <td>0.091516</td>\n",
       "      <td>0.001261</td>\n",
       "      <td>0.066078</td>\n",
       "      <td>0.000297</td>\n",
       "      <td>0.380191</td>\n",
       "      <td>0.001112</td>\n",
       "      <td>4.526664e+06</td>\n",
       "    </tr>\n",
       "    <tr>\n",
       "      <th>std</th>\n",
       "      <td>0.823953</td>\n",
       "      <td>0.058013</td>\n",
       "      <td>0.305336</td>\n",
       "      <td>0.036515</td>\n",
       "      <td>0.253155</td>\n",
       "      <td>0.017221</td>\n",
       "      <td>0.802638</td>\n",
       "      <td>0.037522</td>\n",
       "      <td>2.063321e+04</td>\n",
       "    </tr>\n",
       "    <tr>\n",
       "      <th>min</th>\n",
       "      <td>0.000000</td>\n",
       "      <td>0.000000</td>\n",
       "      <td>0.000000</td>\n",
       "      <td>0.000000</td>\n",
       "      <td>0.000000</td>\n",
       "      <td>0.000000</td>\n",
       "      <td>0.000000</td>\n",
       "      <td>0.000000</td>\n",
       "      <td>4.491064e+06</td>\n",
       "    </tr>\n",
       "    <tr>\n",
       "      <th>25%</th>\n",
       "      <td>0.000000</td>\n",
       "      <td>0.000000</td>\n",
       "      <td>0.000000</td>\n",
       "      <td>0.000000</td>\n",
       "      <td>0.000000</td>\n",
       "      <td>0.000000</td>\n",
       "      <td>0.000000</td>\n",
       "      <td>0.000000</td>\n",
       "      <td>4.508985e+06</td>\n",
       "    </tr>\n",
       "    <tr>\n",
       "      <th>50%</th>\n",
       "      <td>0.000000</td>\n",
       "      <td>0.000000</td>\n",
       "      <td>0.000000</td>\n",
       "      <td>0.000000</td>\n",
       "      <td>0.000000</td>\n",
       "      <td>0.000000</td>\n",
       "      <td>0.000000</td>\n",
       "      <td>0.000000</td>\n",
       "      <td>4.526641e+06</td>\n",
       "    </tr>\n",
       "    <tr>\n",
       "      <th>75%</th>\n",
       "      <td>1.000000</td>\n",
       "      <td>0.000000</td>\n",
       "      <td>0.000000</td>\n",
       "      <td>0.000000</td>\n",
       "      <td>0.000000</td>\n",
       "      <td>0.000000</td>\n",
       "      <td>1.000000</td>\n",
       "      <td>0.000000</td>\n",
       "      <td>4.543903e+06</td>\n",
       "    </tr>\n",
       "    <tr>\n",
       "      <th>max</th>\n",
       "      <td>15.000000</td>\n",
       "      <td>3.000000</td>\n",
       "      <td>4.000000</td>\n",
       "      <td>2.000000</td>\n",
       "      <td>3.000000</td>\n",
       "      <td>1.000000</td>\n",
       "      <td>15.000000</td>\n",
       "      <td>3.000000</td>\n",
       "      <td>4.664283e+06</td>\n",
       "    </tr>\n",
       "  </tbody>\n",
       "</table>\n",
       "</div>"
      ],
      "text/plain": [
       "       NUMBER OF PERSONS INJURED  NUMBER OF PERSONS KILLED  \\\n",
       "count               26968.000000              26968.000000   \n",
       "mean                    0.570528                  0.003004   \n",
       "std                     0.823953                  0.058013   \n",
       "min                     0.000000                  0.000000   \n",
       "25%                     0.000000                  0.000000   \n",
       "50%                     0.000000                  0.000000   \n",
       "75%                     1.000000                  0.000000   \n",
       "max                    15.000000                  3.000000   \n",
       "\n",
       "       NUMBER OF PEDESTRIANS INJURED  NUMBER OF PEDESTRIANS KILLED  \\\n",
       "count                   26968.000000                  26968.000000   \n",
       "mean                        0.091516                      0.001261   \n",
       "std                         0.305336                      0.036515   \n",
       "min                         0.000000                      0.000000   \n",
       "25%                         0.000000                      0.000000   \n",
       "50%                         0.000000                      0.000000   \n",
       "75%                         0.000000                      0.000000   \n",
       "max                         4.000000                      2.000000   \n",
       "\n",
       "       NUMBER OF CYCLIST INJURED  NUMBER OF CYCLIST KILLED  \\\n",
       "count               26968.000000              26968.000000   \n",
       "mean                    0.066078                  0.000297   \n",
       "std                     0.253155                  0.017221   \n",
       "min                     0.000000                  0.000000   \n",
       "25%                     0.000000                  0.000000   \n",
       "50%                     0.000000                  0.000000   \n",
       "75%                     0.000000                  0.000000   \n",
       "max                     3.000000                  1.000000   \n",
       "\n",
       "       NUMBER OF MOTORIST INJURED  NUMBER OF MOTORIST KILLED  COLLISION_ID  \n",
       "count                26968.000000               26968.000000  2.696800e+04  \n",
       "mean                     0.380191                   0.001112  4.526664e+06  \n",
       "std                      0.802638                   0.037522  2.063321e+04  \n",
       "min                      0.000000                   0.000000  4.491064e+06  \n",
       "25%                      0.000000                   0.000000  4.508985e+06  \n",
       "50%                      0.000000                   0.000000  4.526641e+06  \n",
       "75%                      1.000000                   0.000000  4.543903e+06  \n",
       "max                     15.000000                   3.000000  4.664283e+06  "
      ]
     },
     "execution_count": 97,
     "metadata": {},
     "output_type": "execute_result"
    }
   ],
   "source": [
    "#sumamry statistics of the data\n",
    "data.describe()"
   ]
  },
  {
   "cell_type": "markdown",
   "metadata": {
    "id": "DLziWVBRA_Un"
   },
   "source": [
    "From the above statistics we can observe the median mode and mean values for all numerical columns and understand the distribution of the data"
   ]
  },
  {
   "cell_type": "markdown",
   "metadata": {
    "id": "t6H2U7_Mvlgf"
   },
   "source": [
    "Now lets analyse the each attribute"
   ]
  },
  {
   "cell_type": "code",
   "execution_count": 98,
   "metadata": {
    "colab": {
     "base_uri": "https://localhost:8080/"
    },
    "id": "otb6wzKivlgf",
    "outputId": "24fb93c5-b6a3-46a7-f907-567f350bb58d"
   },
   "outputs": [
    {
     "data": {
      "text/plain": [
       "count         26968\n",
       "unique          287\n",
       "top       6/10/2022\n",
       "freq            159\n",
       "Name: CRASH DATE, dtype: object"
      ]
     },
     "execution_count": 98,
     "metadata": {},
     "output_type": "execute_result"
    }
   ],
   "source": [
    "data['CRASH DATE'].describe()"
   ]
  },
  {
   "cell_type": "markdown",
   "metadata": {
    "id": "0RgTTwiDBf75"
   },
   "source": [
    "from the above data it is found that there are 287 unique values in the crash date attribute."
   ]
  },
  {
   "cell_type": "code",
   "execution_count": 99,
   "metadata": {
    "colab": {
     "base_uri": "https://localhost:8080/"
    },
    "id": "XcBtPWQfvlgf",
    "outputId": "b3e26116-2fe5-4942-8370-d79d63d9be1c"
   },
   "outputs": [
    {
     "data": {
      "text/plain": [
       "count     26968\n",
       "unique     1438\n",
       "top        0:00\n",
       "freq        390\n",
       "Name: CRASH TIME, dtype: object"
      ]
     },
     "execution_count": 99,
     "metadata": {},
     "output_type": "execute_result"
    }
   ],
   "source": [
    "data['CRASH TIME'].describe()"
   ]
  },
  {
   "cell_type": "markdown",
   "metadata": {
    "id": "ERXS4mlSB52w"
   },
   "source": [
    "from the above data it is found that there are 1438 unique values in the crash time attribute."
   ]
  },
  {
   "cell_type": "code",
   "execution_count": 100,
   "metadata": {
    "colab": {
     "base_uri": "https://localhost:8080/"
    },
    "id": "ya2OPhNdCD0s",
    "outputId": "5de83b15-fe1d-4289-de3c-83aef648c458"
   },
   "outputs": [
    {
     "data": {
      "text/plain": [
       "count        26968\n",
       "unique           5\n",
       "top       BROOKLYN\n",
       "freq          8952\n",
       "Name: BOROUGH, dtype: object"
      ]
     },
     "execution_count": 100,
     "metadata": {},
     "output_type": "execute_result"
    }
   ],
   "source": [
    "data['BOROUGH'].describe()"
   ]
  },
  {
   "cell_type": "markdown",
   "metadata": {
    "id": "jhC5B_GfCQEz"
   },
   "source": [
    "from the above data it is found that there are 5 unique values in the Borough  attribute."
   ]
  },
  {
   "cell_type": "code",
   "execution_count": 101,
   "metadata": {
    "colab": {
     "base_uri": "https://localhost:8080/"
    },
    "id": "KU1bCjaWCZIP",
    "outputId": "2c55e4df-bc15-45a3-c3f9-b305df62145c"
   },
   "outputs": [
    {
     "data": {
      "text/plain": [
       "count        26968\n",
       "unique        3232\n",
       "top       BROADWAY\n",
       "freq           315\n",
       "Name: ON STREET NAME, dtype: object"
      ]
     },
     "execution_count": 101,
     "metadata": {},
     "output_type": "execute_result"
    }
   ],
   "source": [
    "data['ON STREET NAME'].describe()"
   ]
  },
  {
   "cell_type": "markdown",
   "metadata": {
    "id": "whPUEU3dCf9Y"
   },
   "source": [
    "from the above data it is found that there are 3232 unique streets involved in crash in New York City."
   ]
  },
  {
   "cell_type": "code",
   "execution_count": 102,
   "metadata": {
    "colab": {
     "base_uri": "https://localhost:8080/"
    },
    "id": "-2nJ08vjCtFi",
    "outputId": "877283ac-ecca-4231-9dad-29ab16eb20a8"
   },
   "outputs": [
    {
     "data": {
      "text/plain": [
       "count    26968.000000\n",
       "mean         0.570528\n",
       "std          0.823953\n",
       "min          0.000000\n",
       "25%          0.000000\n",
       "50%          0.000000\n",
       "75%          1.000000\n",
       "max         15.000000\n",
       "Name: NUMBER OF PERSONS INJURED, dtype: float64"
      ]
     },
     "execution_count": 102,
     "metadata": {},
     "output_type": "execute_result"
    }
   ],
   "source": [
    "data['NUMBER OF PERSONS INJURED'].describe()"
   ]
  },
  {
   "cell_type": "markdown",
   "metadata": {
    "id": "mmeCi1Omvlgf"
   },
   "source": [
    "We have total 26968 observations and from the above statistical data we can observe that the average no of persons injured in the crashes is 1 person per two crashes."
   ]
  },
  {
   "cell_type": "code",
   "execution_count": 103,
   "metadata": {
    "colab": {
     "base_uri": "https://localhost:8080/"
    },
    "id": "GFOQ3NzZDJHn",
    "outputId": "e03ac677-95f8-4c2f-dfc3-907b0903415d"
   },
   "outputs": [
    {
     "data": {
      "text/plain": [
       "count    26968.000000\n",
       "mean         0.003004\n",
       "std          0.058013\n",
       "min          0.000000\n",
       "25%          0.000000\n",
       "50%          0.000000\n",
       "75%          0.000000\n",
       "max          3.000000\n",
       "Name: NUMBER OF PERSONS KILLED, dtype: float64"
      ]
     },
     "execution_count": 103,
     "metadata": {},
     "output_type": "execute_result"
    }
   ],
   "source": [
    "#here we can find the average and std deviation min and max no of people can be killed per a crash as below\n",
    "data['NUMBER OF PERSONS KILLED'].describe()"
   ]
  },
  {
   "cell_type": "code",
   "execution_count": 104,
   "metadata": {
    "id": "CuUnINP_D2qG"
   },
   "outputs": [],
   "source": [
    "#now lets handle the NaN values in Borough attribute\n",
    "data['BOROUGH'].fillna(value=data['BOROUGH'].mode(), inplace=True)"
   ]
  },
  {
   "cell_type": "markdown",
   "metadata": {
    "id": "jByDCglrEOq0"
   },
   "source": [
    "Here we are fillinh NaN values with the mode value of the attribute as it is a categorical attribute"
   ]
  },
  {
   "cell_type": "code",
   "execution_count": 105,
   "metadata": {
    "id": "t4wxCkSyEVq7"
   },
   "outputs": [],
   "source": [
    "#now lets handle the NaN values in ON STREET NAME attribute\n",
    "data['ON STREET NAME'].fillna(value=data['ON STREET NAME'].mode(), inplace=True)"
   ]
  },
  {
   "cell_type": "markdown",
   "metadata": {
    "id": "0G0rx28LEheu"
   },
   "source": [
    "Here we are fillinh NaN values with the mode value of the attribute as it is a categorical attribute"
   ]
  },
  {
   "cell_type": "code",
   "execution_count": 106,
   "metadata": {
    "id": "xNvDLKM2EkOS"
   },
   "outputs": [],
   "source": [
    "#lets do the same for all the numerical attributes as below by filling NaN with mean value of that respective attribuute\n",
    "data['NUMBER OF PERSONS INJURED'].fillna(value=data['NUMBER OF PERSONS INJURED'].mean(), inplace=True)\n",
    "data['NUMBER OF PERSONS KILLED'].fillna(value=data['NUMBER OF PERSONS KILLED'].mean(), inplace=True)\n",
    "data['NUMBER OF PEDESTRIANS INJURED'].fillna(value=data['NUMBER OF PEDESTRIANS INJURED'].mean(), inplace=True)\n",
    "data['NUMBER OF PEDESTRIANS KILLED'].fillna(value=data['NUMBER OF PEDESTRIANS KILLED'].mean(), inplace=True)\n",
    "data['NUMBER OF CYCLIST INJURED'].fillna(value=data['NUMBER OF CYCLIST INJURED'].mean(), inplace=True)\n",
    "data['NUMBER OF CYCLIST KILLED'].fillna(value=data['NUMBER OF CYCLIST KILLED'].mean(), inplace=True)\n",
    "data['NUMBER OF MOTORIST INJURED'].fillna(value=data['NUMBER OF MOTORIST INJURED'].mean(), inplace=True)\n",
    "data['NUMBER OF MOTORIST KILLED'].fillna(value=data['NUMBER OF MOTORIST KILLED'].mean(), inplace=True)"
   ]
  },
  {
   "cell_type": "code",
   "execution_count": 107,
   "metadata": {
    "id": "dM8mZliMFjfB"
   },
   "outputs": [],
   "source": [
    "data['CONTRIBUTING FACTOR VEHICLE 1'].fillna(value=data['CONTRIBUTING FACTOR VEHICLE 1'].mode(), inplace=True)\n",
    "data['VEHICLE TYPE CODE 1'].fillna(value=data['VEHICLE TYPE CODE 1'].mode(), inplace=True)"
   ]
  },
  {
   "cell_type": "code",
   "execution_count": 108,
   "metadata": {
    "colab": {
     "base_uri": "https://localhost:8080/",
     "height": 399
    },
    "id": "r6__MLZrF-S1",
    "outputId": "f28ba95f-ad18-4e5c-82ff-e257965c3a37"
   },
   "outputs": [
    {
     "data": {
      "text/html": [
       "<div>\n",
       "<style scoped>\n",
       "    .dataframe tbody tr th:only-of-type {\n",
       "        vertical-align: middle;\n",
       "    }\n",
       "\n",
       "    .dataframe tbody tr th {\n",
       "        vertical-align: top;\n",
       "    }\n",
       "\n",
       "    .dataframe thead th {\n",
       "        text-align: right;\n",
       "    }\n",
       "</style>\n",
       "<table border=\"1\" class=\"dataframe\">\n",
       "  <thead>\n",
       "    <tr style=\"text-align: right;\">\n",
       "      <th></th>\n",
       "      <th>CRASH DATE</th>\n",
       "      <th>CRASH TIME</th>\n",
       "      <th>BOROUGH</th>\n",
       "      <th>ON STREET NAME</th>\n",
       "      <th>NUMBER OF PERSONS INJURED</th>\n",
       "      <th>NUMBER OF PERSONS KILLED</th>\n",
       "      <th>NUMBER OF PEDESTRIANS INJURED</th>\n",
       "      <th>NUMBER OF PEDESTRIANS KILLED</th>\n",
       "      <th>NUMBER OF CYCLIST INJURED</th>\n",
       "      <th>NUMBER OF CYCLIST KILLED</th>\n",
       "      <th>NUMBER OF MOTORIST INJURED</th>\n",
       "      <th>NUMBER OF MOTORIST KILLED</th>\n",
       "      <th>CONTRIBUTING FACTOR VEHICLE 1</th>\n",
       "      <th>COLLISION_ID</th>\n",
       "      <th>VEHICLE TYPE CODE 1</th>\n",
       "    </tr>\n",
       "  </thead>\n",
       "  <tbody>\n",
       "    <tr>\n",
       "      <th>10</th>\n",
       "      <td>4/24/2022</td>\n",
       "      <td>21:40</td>\n",
       "      <td>BRONX</td>\n",
       "      <td>BOSCOBEL PLACE</td>\n",
       "      <td>0.0</td>\n",
       "      <td>0.0</td>\n",
       "      <td>0.0</td>\n",
       "      <td>0.0</td>\n",
       "      <td>0.0</td>\n",
       "      <td>0.0</td>\n",
       "      <td>0.0</td>\n",
       "      <td>0.0</td>\n",
       "      <td>Alcohol Involvement</td>\n",
       "      <td>4522156.0</td>\n",
       "      <td>Taxi</td>\n",
       "    </tr>\n",
       "    <tr>\n",
       "      <th>11</th>\n",
       "      <td>4/24/2022</td>\n",
       "      <td>17:45</td>\n",
       "      <td>BRONX</td>\n",
       "      <td>BRONX RIVER PARKWAY</td>\n",
       "      <td>0.0</td>\n",
       "      <td>0.0</td>\n",
       "      <td>0.0</td>\n",
       "      <td>0.0</td>\n",
       "      <td>0.0</td>\n",
       "      <td>0.0</td>\n",
       "      <td>0.0</td>\n",
       "      <td>0.0</td>\n",
       "      <td>Driver Inattention/Distraction</td>\n",
       "      <td>4521633.0</td>\n",
       "      <td>Sedan</td>\n",
       "    </tr>\n",
       "    <tr>\n",
       "      <th>14</th>\n",
       "      <td>4/24/2022</td>\n",
       "      <td>0:00</td>\n",
       "      <td>BRONX</td>\n",
       "      <td>MAJOR DEEGAN EXPRESSWAY</td>\n",
       "      <td>0.0</td>\n",
       "      <td>0.0</td>\n",
       "      <td>0.0</td>\n",
       "      <td>0.0</td>\n",
       "      <td>0.0</td>\n",
       "      <td>0.0</td>\n",
       "      <td>0.0</td>\n",
       "      <td>0.0</td>\n",
       "      <td>Driver Inattention/Distraction</td>\n",
       "      <td>4521801.0</td>\n",
       "      <td>Sedan</td>\n",
       "    </tr>\n",
       "    <tr>\n",
       "      <th>16</th>\n",
       "      <td>4/24/2022</td>\n",
       "      <td>15:35</td>\n",
       "      <td>MANHATTAN</td>\n",
       "      <td>WEST 56 STREET</td>\n",
       "      <td>1.0</td>\n",
       "      <td>0.0</td>\n",
       "      <td>0.0</td>\n",
       "      <td>0.0</td>\n",
       "      <td>1.0</td>\n",
       "      <td>0.0</td>\n",
       "      <td>0.0</td>\n",
       "      <td>0.0</td>\n",
       "      <td>View Obstructed/Limited</td>\n",
       "      <td>4521853.0</td>\n",
       "      <td>Station Wagon/Sport Utility Vehicle</td>\n",
       "    </tr>\n",
       "    <tr>\n",
       "      <th>17</th>\n",
       "      <td>4/22/2022</td>\n",
       "      <td>12:00</td>\n",
       "      <td>BROOKLYN</td>\n",
       "      <td>AVENUE J</td>\n",
       "      <td>1.0</td>\n",
       "      <td>0.0</td>\n",
       "      <td>0.0</td>\n",
       "      <td>0.0</td>\n",
       "      <td>0.0</td>\n",
       "      <td>0.0</td>\n",
       "      <td>1.0</td>\n",
       "      <td>0.0</td>\n",
       "      <td>Unspecified</td>\n",
       "      <td>4522228.0</td>\n",
       "      <td>Sedan</td>\n",
       "    </tr>\n",
       "  </tbody>\n",
       "</table>\n",
       "</div>"
      ],
      "text/plain": [
       "   CRASH DATE CRASH TIME    BOROUGH           ON STREET NAME  \\\n",
       "10  4/24/2022      21:40      BRONX           BOSCOBEL PLACE   \n",
       "11  4/24/2022      17:45      BRONX      BRONX RIVER PARKWAY   \n",
       "14  4/24/2022       0:00      BRONX  MAJOR DEEGAN EXPRESSWAY   \n",
       "16  4/24/2022      15:35  MANHATTAN           WEST 56 STREET   \n",
       "17  4/22/2022      12:00   BROOKLYN                 AVENUE J   \n",
       "\n",
       "    NUMBER OF PERSONS INJURED  NUMBER OF PERSONS KILLED  \\\n",
       "10                        0.0                       0.0   \n",
       "11                        0.0                       0.0   \n",
       "14                        0.0                       0.0   \n",
       "16                        1.0                       0.0   \n",
       "17                        1.0                       0.0   \n",
       "\n",
       "    NUMBER OF PEDESTRIANS INJURED  NUMBER OF PEDESTRIANS KILLED  \\\n",
       "10                            0.0                           0.0   \n",
       "11                            0.0                           0.0   \n",
       "14                            0.0                           0.0   \n",
       "16                            0.0                           0.0   \n",
       "17                            0.0                           0.0   \n",
       "\n",
       "    NUMBER OF CYCLIST INJURED  NUMBER OF CYCLIST KILLED  \\\n",
       "10                        0.0                       0.0   \n",
       "11                        0.0                       0.0   \n",
       "14                        0.0                       0.0   \n",
       "16                        1.0                       0.0   \n",
       "17                        0.0                       0.0   \n",
       "\n",
       "    NUMBER OF MOTORIST INJURED  NUMBER OF MOTORIST KILLED  \\\n",
       "10                         0.0                        0.0   \n",
       "11                         0.0                        0.0   \n",
       "14                         0.0                        0.0   \n",
       "16                         0.0                        0.0   \n",
       "17                         1.0                        0.0   \n",
       "\n",
       "     CONTRIBUTING FACTOR VEHICLE 1  COLLISION_ID  \\\n",
       "10             Alcohol Involvement     4522156.0   \n",
       "11  Driver Inattention/Distraction     4521633.0   \n",
       "14  Driver Inattention/Distraction     4521801.0   \n",
       "16         View Obstructed/Limited     4521853.0   \n",
       "17                     Unspecified     4522228.0   \n",
       "\n",
       "                    VEHICLE TYPE CODE 1  \n",
       "10                                 Taxi  \n",
       "11                                Sedan  \n",
       "14                                Sedan  \n",
       "16  Station Wagon/Sport Utility Vehicle  \n",
       "17                                Sedan  "
      ]
     },
     "execution_count": 108,
     "metadata": {},
     "output_type": "execute_result"
    }
   ],
   "source": [
    "data.head()"
   ]
  },
  {
   "cell_type": "markdown",
   "metadata": {
    "id": "WyRpcQD2vlgg"
   },
   "source": [
    "Now, we have cleaned, consistent and well structured data. We'll peoceed with our exploratory Analysis, this time we'll go for each attribute at a time."
   ]
  },
  {
   "cell_type": "code",
   "execution_count": 109,
   "metadata": {
    "colab": {
     "base_uri": "https://localhost:8080/"
    },
    "id": "f7RYZUJqGSEa",
    "outputId": "fbe600ce-e525-40ba-ba55-822b0d9c4c26"
   },
   "outputs": [
    {
     "name": "stdout",
     "output_type": "stream",
     "text": [
      "CRASH DATE                       datetime64[ns]\n",
      "CRASH TIME                               object\n",
      "BOROUGH                                  object\n",
      "ON STREET NAME                           object\n",
      "NUMBER OF PERSONS INJURED               float64\n",
      "NUMBER OF PERSONS KILLED                float64\n",
      "NUMBER OF PEDESTRIANS INJURED           float64\n",
      "NUMBER OF PEDESTRIANS KILLED            float64\n",
      "NUMBER OF CYCLIST INJURED               float64\n",
      "NUMBER OF CYCLIST KILLED                float64\n",
      "NUMBER OF MOTORIST INJURED              float64\n",
      "NUMBER OF MOTORIST KILLED               float64\n",
      "CONTRIBUTING FACTOR VEHICLE 1            object\n",
      "COLLISION_ID                            float64\n",
      "VEHICLE TYPE CODE 1                      object\n",
      "dtype: object\n"
     ]
    }
   ],
   "source": [
    "#now lets convert the Crash date into a date data type\n",
    "data['CRASH DATE'] = pd.to_datetime(data['CRASH DATE'])\n",
    "print(data.dtypes)"
   ]
  },
  {
   "cell_type": "code",
   "execution_count": 110,
   "metadata": {
    "colab": {
     "base_uri": "https://localhost:8080/",
     "height": 417
    },
    "id": "bh7WNl2sHlFZ",
    "outputId": "74b219c8-0b09-4d44-ce81-3f1df0939062"
   },
   "outputs": [
    {
     "data": {
      "text/html": [
       "<div>\n",
       "<style scoped>\n",
       "    .dataframe tbody tr th:only-of-type {\n",
       "        vertical-align: middle;\n",
       "    }\n",
       "\n",
       "    .dataframe tbody tr th {\n",
       "        vertical-align: top;\n",
       "    }\n",
       "\n",
       "    .dataframe thead th {\n",
       "        text-align: right;\n",
       "    }\n",
       "</style>\n",
       "<table border=\"1\" class=\"dataframe\">\n",
       "  <thead>\n",
       "    <tr style=\"text-align: right;\">\n",
       "      <th></th>\n",
       "      <th>CRASH DATE</th>\n",
       "      <th>CRASH TIME</th>\n",
       "      <th>BOROUGH</th>\n",
       "      <th>ON STREET NAME</th>\n",
       "      <th>NUMBER OF PERSONS INJURED</th>\n",
       "      <th>NUMBER OF PERSONS KILLED</th>\n",
       "      <th>NUMBER OF PEDESTRIANS INJURED</th>\n",
       "      <th>NUMBER OF PEDESTRIANS KILLED</th>\n",
       "      <th>NUMBER OF CYCLIST INJURED</th>\n",
       "      <th>NUMBER OF CYCLIST KILLED</th>\n",
       "      <th>NUMBER OF MOTORIST INJURED</th>\n",
       "      <th>NUMBER OF MOTORIST KILLED</th>\n",
       "      <th>CONTRIBUTING FACTOR VEHICLE 1</th>\n",
       "      <th>COLLISION_ID</th>\n",
       "      <th>VEHICLE TYPE CODE 1</th>\n",
       "      <th>Day</th>\n",
       "      <th>Month</th>\n",
       "      <th>Year</th>\n",
       "    </tr>\n",
       "  </thead>\n",
       "  <tbody>\n",
       "    <tr>\n",
       "      <th>10</th>\n",
       "      <td>2022-04-24</td>\n",
       "      <td>21:40</td>\n",
       "      <td>BRONX</td>\n",
       "      <td>BOSCOBEL PLACE</td>\n",
       "      <td>0.0</td>\n",
       "      <td>0.0</td>\n",
       "      <td>0.0</td>\n",
       "      <td>0.0</td>\n",
       "      <td>0.0</td>\n",
       "      <td>0.0</td>\n",
       "      <td>0.0</td>\n",
       "      <td>0.0</td>\n",
       "      <td>Alcohol Involvement</td>\n",
       "      <td>4522156.0</td>\n",
       "      <td>Taxi</td>\n",
       "      <td>Thursday</td>\n",
       "      <td>April</td>\n",
       "      <td>2022</td>\n",
       "    </tr>\n",
       "    <tr>\n",
       "      <th>11</th>\n",
       "      <td>2022-04-24</td>\n",
       "      <td>17:45</td>\n",
       "      <td>BRONX</td>\n",
       "      <td>BRONX RIVER PARKWAY</td>\n",
       "      <td>0.0</td>\n",
       "      <td>0.0</td>\n",
       "      <td>0.0</td>\n",
       "      <td>0.0</td>\n",
       "      <td>0.0</td>\n",
       "      <td>0.0</td>\n",
       "      <td>0.0</td>\n",
       "      <td>0.0</td>\n",
       "      <td>Driver Inattention/Distraction</td>\n",
       "      <td>4521633.0</td>\n",
       "      <td>Sedan</td>\n",
       "      <td>Thursday</td>\n",
       "      <td>April</td>\n",
       "      <td>2022</td>\n",
       "    </tr>\n",
       "    <tr>\n",
       "      <th>14</th>\n",
       "      <td>2022-04-24</td>\n",
       "      <td>0:00</td>\n",
       "      <td>BRONX</td>\n",
       "      <td>MAJOR DEEGAN EXPRESSWAY</td>\n",
       "      <td>0.0</td>\n",
       "      <td>0.0</td>\n",
       "      <td>0.0</td>\n",
       "      <td>0.0</td>\n",
       "      <td>0.0</td>\n",
       "      <td>0.0</td>\n",
       "      <td>0.0</td>\n",
       "      <td>0.0</td>\n",
       "      <td>Driver Inattention/Distraction</td>\n",
       "      <td>4521801.0</td>\n",
       "      <td>Sedan</td>\n",
       "      <td>Thursday</td>\n",
       "      <td>April</td>\n",
       "      <td>2022</td>\n",
       "    </tr>\n",
       "    <tr>\n",
       "      <th>16</th>\n",
       "      <td>2022-04-24</td>\n",
       "      <td>15:35</td>\n",
       "      <td>MANHATTAN</td>\n",
       "      <td>WEST 56 STREET</td>\n",
       "      <td>1.0</td>\n",
       "      <td>0.0</td>\n",
       "      <td>0.0</td>\n",
       "      <td>0.0</td>\n",
       "      <td>1.0</td>\n",
       "      <td>0.0</td>\n",
       "      <td>0.0</td>\n",
       "      <td>0.0</td>\n",
       "      <td>View Obstructed/Limited</td>\n",
       "      <td>4521853.0</td>\n",
       "      <td>Station Wagon/Sport Utility Vehicle</td>\n",
       "      <td>Thursday</td>\n",
       "      <td>April</td>\n",
       "      <td>2022</td>\n",
       "    </tr>\n",
       "    <tr>\n",
       "      <th>17</th>\n",
       "      <td>2022-04-22</td>\n",
       "      <td>12:00</td>\n",
       "      <td>BROOKLYN</td>\n",
       "      <td>AVENUE J</td>\n",
       "      <td>1.0</td>\n",
       "      <td>0.0</td>\n",
       "      <td>0.0</td>\n",
       "      <td>0.0</td>\n",
       "      <td>0.0</td>\n",
       "      <td>0.0</td>\n",
       "      <td>1.0</td>\n",
       "      <td>0.0</td>\n",
       "      <td>Unspecified</td>\n",
       "      <td>4522228.0</td>\n",
       "      <td>Sedan</td>\n",
       "      <td>Tuesday</td>\n",
       "      <td>April</td>\n",
       "      <td>2022</td>\n",
       "    </tr>\n",
       "  </tbody>\n",
       "</table>\n",
       "</div>"
      ],
      "text/plain": [
       "   CRASH DATE CRASH TIME    BOROUGH           ON STREET NAME  \\\n",
       "10 2022-04-24      21:40      BRONX           BOSCOBEL PLACE   \n",
       "11 2022-04-24      17:45      BRONX      BRONX RIVER PARKWAY   \n",
       "14 2022-04-24       0:00      BRONX  MAJOR DEEGAN EXPRESSWAY   \n",
       "16 2022-04-24      15:35  MANHATTAN           WEST 56 STREET   \n",
       "17 2022-04-22      12:00   BROOKLYN                 AVENUE J   \n",
       "\n",
       "    NUMBER OF PERSONS INJURED  NUMBER OF PERSONS KILLED  \\\n",
       "10                        0.0                       0.0   \n",
       "11                        0.0                       0.0   \n",
       "14                        0.0                       0.0   \n",
       "16                        1.0                       0.0   \n",
       "17                        1.0                       0.0   \n",
       "\n",
       "    NUMBER OF PEDESTRIANS INJURED  NUMBER OF PEDESTRIANS KILLED  \\\n",
       "10                            0.0                           0.0   \n",
       "11                            0.0                           0.0   \n",
       "14                            0.0                           0.0   \n",
       "16                            0.0                           0.0   \n",
       "17                            0.0                           0.0   \n",
       "\n",
       "    NUMBER OF CYCLIST INJURED  NUMBER OF CYCLIST KILLED  \\\n",
       "10                        0.0                       0.0   \n",
       "11                        0.0                       0.0   \n",
       "14                        0.0                       0.0   \n",
       "16                        1.0                       0.0   \n",
       "17                        0.0                       0.0   \n",
       "\n",
       "    NUMBER OF MOTORIST INJURED  NUMBER OF MOTORIST KILLED  \\\n",
       "10                         0.0                        0.0   \n",
       "11                         0.0                        0.0   \n",
       "14                         0.0                        0.0   \n",
       "16                         0.0                        0.0   \n",
       "17                         1.0                        0.0   \n",
       "\n",
       "     CONTRIBUTING FACTOR VEHICLE 1  COLLISION_ID  \\\n",
       "10             Alcohol Involvement     4522156.0   \n",
       "11  Driver Inattention/Distraction     4521633.0   \n",
       "14  Driver Inattention/Distraction     4521801.0   \n",
       "16         View Obstructed/Limited     4521853.0   \n",
       "17                     Unspecified     4522228.0   \n",
       "\n",
       "                    VEHICLE TYPE CODE 1       Day  Month  Year  \n",
       "10                                 Taxi  Thursday  April  2022  \n",
       "11                                Sedan  Thursday  April  2022  \n",
       "14                                Sedan  Thursday  April  2022  \n",
       "16  Station Wagon/Sport Utility Vehicle  Thursday  April  2022  \n",
       "17                                Sedan   Tuesday  April  2022  "
      ]
     },
     "execution_count": 110,
     "metadata": {},
     "output_type": "execute_result"
    }
   ],
   "source": [
    "import calendar\n",
    "#Exctracting the year, month, day to analyse the seasonal and temporal time analysis of crashes\n",
    "data['Day'] = data['CRASH DATE'].dt.day\n",
    "data['Month'] = data['CRASH DATE'].dt.month\n",
    "data['Year'] = data['CRASH DATE'].dt.year\n",
    "\n",
    "# Map month and day numbers to their names\n",
    "data['Month'] = data['Month'].apply(lambda x: calendar.month_name[x])\n",
    "data['Day'] = data['Day'].apply(lambda x: calendar.day_name[x % 7])  # % 7 to handle Sunday as the first day\n",
    "\n",
    "data.head()"
   ]
  },
  {
   "cell_type": "markdown",
   "metadata": {
    "id": "xUhz2ChsG94y"
   },
   "source": [
    "In the above step we extract the day month and year from the crash date attribute and also changed to its respective month day names to make easier to analyse the data well."
   ]
  },
  {
   "cell_type": "markdown",
   "metadata": {
    "id": "kMbpcVpnvlgh"
   },
   "source": [
    "### EDA - No of Crashes by Year\n",
    "First I will get summary statistics on the attribute Year. Then, since Year is an ordinal variable, I will generate bar plots using both Matplotlib and Seaborn."
   ]
  },
  {
   "cell_type": "code",
   "execution_count": 111,
   "metadata": {
    "colab": {
     "base_uri": "https://localhost:8080/",
     "height": 945
    },
    "id": "KK_qsc-6vlgh",
    "outputId": "066d47e0-7e4a-4bf6-f1b2-f1552834c304"
   },
   "outputs": [
    {
     "data": {
      "image/png": "[encoded data removed]",
      "text/plain": [
       "<Figure size 640x480 with 1 Axes>"
      ]
     },
     "metadata": {},
     "output_type": "display_data"
    },
    {
     "data": {
      "text/plain": [
       "<Axes: title={'center': 'SEABORN: Number of Crashes per Year'}, xlabel='Year', ylabel='count'>"
      ]
     },
     "execution_count": 111,
     "metadata": {},
     "output_type": "execute_result"
    },
    {
     "data": {
      "image/png": "[encoded data removed]",
      "text/plain": [
       "<Figure size 640x480 with 1 Axes>"
      ]
     },
     "metadata": {},
     "output_type": "display_data"
    }
   ],
   "source": [
    "#bar plot for year with matplot lib\n",
    "year_bar_plot = data['Year'].value_counts().plot(kind = 'bar')\n",
    "#set the title of the bar plot\n",
    "year_bar_plot.set_title('MATPLOTLIB: Number of Crashes per Year')\n",
    "year_bar_plot.set_xticklabels(year_bar_plot.get_xticklabels(), rotation=45)\n",
    "\n",
    "#show the plot\n",
    "plt.show()\n",
    "\n",
    "#Now I will create the same bar plot but using Seaborn\n",
    "#Seaborn has a built in countplot function that does the counting and plot the data\n",
    "year_bar_plot = sns.countplot(x=\"Year\",data=data)\n",
    "year_bar_plot.set_title('SEABORN: Number of Crashes per Year')\n",
    "\n",
    "#show the bar/count plot\n",
    "year_bar_plot\n"
   ]
  },
  {
   "cell_type": "markdown",
   "metadata": {
    "id": "04ACq5Obvlgh"
   },
   "source": [
    "### Findings\n",
    "From the above graphs it was evident that a large no of crashes happened during 2022, but we cannot rely on this insight as there may be high chance that data collected for 2023 year and availability might be very less. So further I will analyse by month"
   ]
  },
  {
   "cell_type": "markdown",
   "metadata": {
    "id": "8mezUIoaJ0qD"
   },
   "source": [
    "### EDA - No of crashes by Month"
   ]
  },
  {
   "cell_type": "code",
   "execution_count": null,
   "metadata": {
    "colab": {
     "base_uri": "https://localhost:8080/",
     "height": 987
    },
    "id": "zyMuEPHqJzvq",
    "outputId": "e7792a62-0371-4ae6-8541-b2ad0295b6ba"
   },
   "outputs": [
    {
     "data": {
      "image/png": "[encoded data removed]",
      "text/plain": [
       "<Figure size 640x480 with 1 Axes>"
      ]
     },
     "metadata": {},
     "output_type": "display_data"
    },
    {
     "data": {
      "text/plain": [
       "<Axes: title={'center': 'SEABORN: Number of Crashes per Month'}, xlabel='Month', ylabel='count'>"
      ]
     },
     "execution_count": 112,
     "metadata": {},
     "output_type": "execute_result"
    }
   ],
   "source": [
    "#bar plot for Month with matplot lib\n",
    "month_bar_plot = data['Month'].value_counts().plot(kind = 'bar')\n",
    "#set the title of the bar plot\n",
    "month_bar_plot.set_title('MATPLOTLIB: Number of Crashes per Month')\n",
    "month_bar_plot.set_xticklabels(month_bar_plot.get_xticklabels(), rotation=45)\n",
    "#show the plot\n",
    "plt.show()\n",
    "\n",
    "#Now I will create the same bar plot but using Seaborn\n",
    "#Seaborn has a built in countplot function that does the counting and plot the data\n",
    "month_bar_plot = sns.countplot(x=\"Month\",data=data)\n",
    "month_bar_plot.set_title('SEABORN: Number of Crashes per Month')\n",
    "month_bar_plot.set_xticklabels(month_bar_plot.get_xticklabels(), rotation=45)\n",
    "\n",
    "#show the bar/count plot\n",
    "month_bar_plot\n"
   ]
  },
  {
   "cell_type": "markdown",
   "metadata": {
    "id": "NAYICjGKKN-1"
   },
   "source": [
    "#### Findings:\n",
    "As per the above plots it was evident that June marks the highest and then follwed by May . To be specific Quater 4 has the least no of crashes.The reason behind this may be that as it was a winter season people are less tend to travel leading to less no of crashes."
   ]
  },
  {
   "cell_type": "markdown",
   "metadata": {
    "id": "EviW3Fhgvlgh"
   },
   "source": [
    "### EDA - Crashes by Day"
   ]
  },
  {
   "cell_type": "code",
   "execution_count": null,
   "metadata": {
    "colab": {
     "base_uri": "https://localhost:8080/",
     "height": 991
    },
    "id": "FtuDIrxkvlgh",
    "outputId": "1e527f04-f0bf-4c2e-b84e-3152194a7e67"
   },
   "outputs": [],
   "source": [
    "#bar plot for day with matplot lib\n",
    "day_bar_plot = data['Day'].value_counts().plot(kind = 'bar')\n",
    "#set the title of the bar plot\n",
    "day_bar_plot.set_title('MATPLOTLIB: Number of Crashes per Day')\n",
    "day_bar_plot.set_xticklabels(day_bar_plot.get_xticklabels(), rotation=45)\n",
    "\n",
    "#show the plot\n",
    "plt.show()\n",
    "\n",
    "#Now I will create the same bar plot but using Seaborn\n",
    "#Seaborn has a built in countplot function that does the counting and plot the data\n",
    "day_bar_plot = sns.countplot(x=\"Day\",data=data)\n",
    "day_bar_plot.set_title('SEABORN: Number of Crashes per Day')\n",
    "#show the bar/count plot\n",
    "day_bar_plot"
   ]
  },
  {
   "cell_type": "markdown",
   "metadata": {
    "id": "ICOxmoFcLjAo"
   },
   "source": [
    "#### Findings:\n",
    "From the above plots It is evident that Tuesday marks the highest crashes day followed by wednesday and Thursday with slight difference."
   ]
  },
  {
   "cell_type": "markdown",
   "metadata": {
    "id": "uUAQlWXwL7WF"
   },
   "source": [
    "### EDA - Crashes by Borough"
   ]
  },
  {
   "cell_type": "code",
   "execution_count": null,
   "metadata": {
    "colab": {
     "base_uri": "https://localhost:8080/",
     "height": 1000
    },
    "id": "FGVtLs4gvlgh",
    "outputId": "c1ed8daf-6a8e-473b-f6b9-47031260e173"
   },
   "outputs": [],
   "source": [
    "#Matplotlib bar plot for the Number of Crashes by Borough\n",
    "#plt.gcf().set_size_inches(8, 5)\n",
    "borough = data['BOROUGH'].value_counts().plot(kind = 'bar')\n",
    "borough.set_title('MATPLOTLIB: Number of Crashes by Borough')\n",
    "borough.set_xticklabels(borough.get_xticklabels(), rotation=45)\n",
    "\n",
    "plt.show()\n",
    "\n",
    "#plt.gcf().set_size_inches(10, 15)\n",
    "#Seaboarn bar plot for the Number of Crashes by Borough\n",
    "borough = sns.countplot(y=\"BOROUGH\",data=data)\n",
    "borough.set_title('SEABORN: Number of Crashes by Borough')\n",
    "borough"
   ]
  },
  {
   "cell_type": "markdown",
   "metadata": {
    "id": "1LUjQyqNvlgh"
   },
   "source": [
    "### Findings\n",
    "\n",
    "Based on the data shown above, it is obvious that Brroklyn stood at first place for happening most crashes followed by Queens and STATEN ISLAND beinhg the least and indicating the safe place in terms of travelling."
   ]
  },
  {
   "cell_type": "markdown",
   "metadata": {
    "id": "7uGdCpzSvlgi"
   },
   "source": [
    "### EDA - Crashes by  Street\n"
   ]
  },
  {
   "cell_type": "code",
   "execution_count": null,
   "metadata": {
    "colab": {
     "base_uri": "https://localhost:8080/",
     "height": 1000
    },
    "id": "0YtllJPgvlgi",
    "outputId": "bf87fdcb-986e-41c7-9c7b-c3e1970d1010"
   },
   "outputs": [],
   "source": [
    "#Matplotlib bar plot for the Number of Crashes by Street\n",
    "\n",
    "street = data['ON STREET NAME'].value_counts().head().plot(kind = 'bar')\n",
    "street.set_title('MATPLOTLIB: Number of Crashes by Street')\n",
    "street.set_xticklabels(street.get_xticklabels(), rotation=45)\n",
    "\n",
    "plt.show()\n",
    "\n",
    "\n",
    "\n",
    "\n",
    "#Seaboarn bar plot for the Number of Crashes by Street\n",
    "streets = data[\"ON STREET NAME\"].value_counts().head(5)\n",
    "streeti = sns.barplot(x=streets.index, y=streets.values)\n",
    "streeti.set_title('SEABORN: Number of Crashes by Street')\n",
    "streeti.set_xticklabels(streeti.get_xticklabels(), rotation=45)\n",
    "plt.show()"
   ]
  },
  {
   "cell_type": "markdown",
   "metadata": {
    "id": "hLzLhetXRKRk"
   },
   "source": [
    "#### Findings:\n",
    "As there were very large number of street Here I displayed only top 5 streets of having large number of crashes.Broadway experience the most no of vehicle crashes follwed by atlantic avenue and 3rd avenue."
   ]
  },
  {
   "cell_type": "markdown",
   "metadata": {
    "id": "tvqHrwJgRve6"
   },
   "source": [
    "### EDA - No of Injuries by Month and Day"
   ]
  },
  {
   "cell_type": "code",
   "execution_count": null,
   "metadata": {
    "colab": {
     "base_uri": "https://localhost:8080/",
     "height": 873
    },
    "id": "2CbqeVvSvlgi",
    "outputId": "7e1e6c4d-c0d8-4fed-de4b-bcd3ce251699"
   },
   "outputs": [],
   "source": [
    "monthly_injuries = data.groupby(\"Month\")[\"NUMBER OF PERSONS INJURED\"].sum().reset_index()\n",
    "\n",
    "# Create the bar plot using seaborn\n",
    "plt.figure(figsize=(15, 6))\n",
    "sns.barplot(x=\"Month\", y=\"NUMBER OF PERSONS INJURED\", data=monthly_injuries)\n",
    "plt.title(\"Number of Injuries by Month\")\n",
    "plt.xlabel(\"Month\")\n",
    "plt.ylabel(\"Total Injuries\")\n",
    "plt.show()\n",
    "\n",
    "#using matplotlib\n",
    "plt.figure(figsize=(15, 6))  # Set the figure size\n",
    "plt.bar(monthly_injuries[\"Month\"], monthly_injuries[\"NUMBER OF PERSONS INJURED\"])\n",
    "plt.title(\"Number of Injuries by Month\")\n",
    "plt.xlabel(\"Month\")\n",
    "plt.ylabel(\"Total Injuries\")\n",
    "plt.show()\n"
   ]
  },
  {
   "cell_type": "code",
   "execution_count": null,
   "metadata": {
    "colab": {
     "base_uri": "https://localhost:8080/",
     "height": 1000
    },
    "id": "xLuNnqX_T0kW",
    "outputId": "02e6ef7d-b562-4f3c-8430-1a14cd8568c8"
   },
   "outputs": [],
   "source": [
    "day_injuries = data.groupby(\"Day\")[\"NUMBER OF PERSONS INJURED\"].sum().reset_index()\n",
    "\n",
    "# Create the bar plot using seaborn\n",
    "sns.barplot(x=\"Day\", y=\"NUMBER OF PERSONS INJURED\", data=day_injuries)\n",
    "plt.title(\"Number of Injuries by Month\")\n",
    "plt.xlabel(\"Day\")\n",
    "plt.ylabel(\"Total Injuries\")\n",
    "plt.show()\n",
    "\n",
    "#using matplotlib\n",
    "plt.figure(figsize=(15, 6))  # Set the figure size\n",
    "plt.bar(day_injuries[\"Day\"], day_injuries[\"NUMBER OF PERSONS INJURED\"])\n",
    "plt.title(\"Number of Injuries by Day\")\n",
    "plt.xlabel(\"MoDaynth\")\n",
    "plt.ylabel(\"Total Injuries\")\n",
    "plt.show()"
   ]
  },
  {
   "cell_type": "markdown",
   "metadata": {
    "id": "ZUt7Ww4bvlgi"
   },
   "source": [
    "### Findings\n",
    "\n",
    "From the above plots Tuesday and Wednesday has the highest no of injuries in a week but all are having slight difference."
   ]
  },
  {
   "cell_type": "markdown",
   "metadata": {
    "id": "VM1WoOrevlgr"
   },
   "source": [
    "### EDA - Deaths by Month and Day\n"
   ]
  },
  {
   "cell_type": "code",
   "execution_count": null,
   "metadata": {
    "colab": {
     "base_uri": "https://localhost:8080/",
     "height": 885
    },
    "id": "3YiUFDPivlgr",
    "outputId": "156425ad-a945-4502-f056-0aaff9bd21b8"
   },
   "outputs": [],
   "source": [
    "monthly_deaths = data.groupby(\"Month\")[\"NUMBER OF PERSONS KILLED\"].sum().reset_index()\n",
    "\n",
    "# Create the bar plot using seaborn\n",
    "plt.figure(figsize=(15, 6))\n",
    "sns.barplot(x=\"Month\", y=\"NUMBER OF PERSONS KILLED\", data=monthly_deaths)\n",
    "plt.title(\"Number of Deaths by Month\")\n",
    "plt.xlabel(\"Month\")\n",
    "plt.ylabel(\"Total Deaths\")\n",
    "plt.show()\n",
    "\n",
    "#using matplotlib\n",
    "plt.figure(figsize=(15, 6))  # Set the figure size\n",
    "plt.bar(monthly_deaths[\"Month\"], monthly_deaths[\"NUMBER OF PERSONS KILLED\"])\n",
    "plt.title(\"Number of Deaths by Month\")\n",
    "plt.xlabel(\"Month\")\n",
    "plt.ylabel(\"Total Deaths\")\n",
    "plt.show()\n"
   ]
  },
  {
   "cell_type": "markdown",
   "metadata": {
    "id": "zU4IlHRVlDrQ"
   },
   "source": [
    "As earlier July has most no of deaths and the months of last quarter i.e.,October, November and December stood at least no of deaths."
   ]
  },
  {
   "cell_type": "code",
   "execution_count": null,
   "metadata": {
    "colab": {
     "base_uri": "https://localhost:8080/",
     "height": 1000
    },
    "id": "d8aY2Dmjkmtk",
    "outputId": "634ac55b-6967-48b3-cc11-6134a8d7b619"
   },
   "outputs": [],
   "source": [
    "day_deaths = data.groupby(\"Day\")[\"NUMBER OF PERSONS KILLED\"].sum().reset_index()\n",
    "\n",
    "# Create the bar plot using seaborn\n",
    "sns.barplot(x=\"Day\", y=\"NUMBER OF PERSONS KILLED\", data=day_deaths)\n",
    "plt.title(\"Number of Deaths by Day\")\n",
    "plt.xlabel(\"Day\")\n",
    "plt.ylabel(\"Total Deaths\")\n",
    "plt.show()\n",
    "\n",
    "#using matplotlib\n",
    "plt.figure(figsize=(15, 6))  # Set the figure size\n",
    "plt.bar(day_deaths[\"Day\"], day_deaths[\"NUMBER OF PERSONS KILLED\"])\n",
    "plt.title(\"Number of deaths by Day\")\n",
    "plt.xlabel(\"Day\")\n",
    "plt.ylabel(\"Total Deaths\")\n",
    "plt.show()"
   ]
  },
  {
   "cell_type": "markdown",
   "metadata": {
    "id": "Tj6as6wzlWNQ"
   },
   "source": [
    "From the above plots, it is evedent that weekdays Thursday has highest number of deaths followed by the Tuesday."
   ]
  },
  {
   "cell_type": "markdown",
   "metadata": {
    "id": "Yo1QYX2rlqQE"
   },
   "source": [
    "### EDA - Cause of the Crash"
   ]
  },
  {
   "cell_type": "code",
   "execution_count": null,
   "metadata": {
    "colab": {
     "base_uri": "https://localhost:8080/",
     "height": 1000
    },
    "id": "h3vuOIyIlpe1",
    "outputId": "b4327e1a-bd5f-4e32-93c2-2f53eaeeff31"
   },
   "outputs": [],
   "source": [
    "#Matplotlib bar plot for the Number of Crashes by Cause of crash\n",
    "cause = data['CONTRIBUTING FACTOR VEHICLE 1'].value_counts().head().plot(kind = 'bar')\n",
    "cause.set_title('MATPLOTLIB: Number of Crashes by cause of crash')\n",
    "cause.set_xticklabels(cause.get_xticklabels(), rotation=45)\n",
    "\n",
    "plt.show()\n",
    "\n",
    "#Seaboarn bar plot for the Number of Crashes by Borough\n",
    "cause = data['CONTRIBUTING FACTOR VEHICLE 1'].value_counts().head()\n",
    "cause = sns.barplot(x=cause.index,y=cause.values)\n",
    "cause.set_title('SEABORN: Number of Crashes by cause of crash')\n",
    "cause.set_xticklabels(cause.get_xticklabels(), rotation=45)\n",
    "\n",
    "cause"
   ]
  },
  {
   "cell_type": "markdown",
   "metadata": {
    "id": "XS9kpjfrmuHo"
   },
   "source": [
    "#### Findings\n",
    "\n",
    "As there are large number of causes and unable to read from a messy visual I have shown top 5 causes in the plot.Driver Inattention/ Distraction is the main reason for the crashes. And next place we have unspecified reason."
   ]
  },
  {
   "cell_type": "markdown",
   "metadata": {
    "id": "dLEaAG0ppNm2"
   },
   "source": [
    "### EDA - Crashes by Time of the day"
   ]
  },
  {
   "cell_type": "code",
   "execution_count": null,
   "metadata": {
    "colab": {
     "base_uri": "https://localhost:8080/",
     "height": 908
    },
    "id": "1PUhgNVlpQ0h",
    "outputId": "c7939ca3-7f1d-46df-f52d-a76b303b0445"
   },
   "outputs": [],
   "source": [
    "# as we have crash time first we convert into a integer so that it will get round of to the hour\n",
    "data[\"CRASH TIME\"]=data[\"CRASH TIME\"].str.split(\":\",expand=True)[0]\n",
    "\n",
    "#Matplotlib bar plot for the Number of Crashes by hour of day\n",
    "hour = data['CRASH TIME'].value_counts().head().plot(kind = 'bar')\n",
    "hour.set_title('MATPLOTLIB: Number of Crashes by hour of day')\n",
    "hour.set_xticklabels(hour.get_xticklabels(), rotation=0)\n",
    "\n",
    "\n",
    "plt.show()\n",
    "\n",
    "#Seaboarn bar plot for the Number of Crashes by hour of the day\n",
    "hour = data['CRASH TIME'].value_counts().head()\n",
    "hour = sns.barplot(x=hour.index,y=hour.values)\n",
    "hour.set_title('SEABORN: Number of Crashes by hpour of day')\n",
    "hour"
   ]
  },
  {
   "cell_type": "markdown",
   "metadata": {
    "id": "0VYHub5tsjXR"
   },
   "source": [
    "#### Findings:\n",
    "From the above plot it is very interesting to observe that all the crashes has happened from 2pm to 6pm ."
   ]
  },
  {
   "cell_type": "code",
   "execution_count": null,
   "metadata": {
    "colab": {
     "base_uri": "https://localhost:8080/",
     "height": 240
    },
    "id": "8GezeFO41XRV",
    "outputId": "77d9d249-4bd4-4bc8-9c24-93e4862af1de"
   },
   "outputs": [],
   "source": [
    "#Now lets draw the box plots to understand the distribution of the data\n",
    "# Create boxplots for all columns using Seaborn\n",
    "data1=data.drop(['COLLISION_ID'],axis=1)\n",
    "plt.figure(figsize=(30, 6))  # Set the figure size\n",
    "\n",
    "sns.boxplot(data=data1)  # \"h\" for horizontal boxplots\n",
    "plt.title(\"Boxplots for All Columns\")\n",
    "plt.xlabel(\"Values\")\n",
    "plt.show()"
   ]
  },
  {
   "cell_type": "markdown",
   "metadata": {
    "id": "-aw8386A3Gnd"
   },
   "source": [
    "From the above box plot we can say that there are no outliers in the data set."
   ]
  },
  {
   "cell_type": "code",
   "execution_count": null,
   "metadata": {
    "colab": {
     "base_uri": "https://localhost:8080/"
    },
    "id": "B5ccVRU-2FRT",
    "outputId": "cd76e5b3-f3fe-4d56-ac5e-f71be6dc7f75"
   },
   "outputs": [],
   "source": [
    "data['COLLISION_ID']"
   ]
  },
  {
   "cell_type": "markdown",
   "metadata": {
    "id": "MUxcGeABvlgu"
   },
   "source": [
    "## <font color=\"red\">4.Inference\n",
    "</font>\n",
    "\n",
    "Now that we've completed the Exploratory Data Analysis we'll perform the analysis required to answer the research question. For any visualizations necessary, I will create the graphic using both Matplotlib and Seaborn.\n",
    "\n"
   ]
  },
  {
   "cell_type": "code",
   "execution_count": null,
   "metadata": {
    "colab": {
     "base_uri": "https://localhost:8080/"
    },
    "id": "FiJ5qhjnwsTT",
    "outputId": "e890356e-759e-49cb-feca-9c9f94e48f9b"
   },
   "outputs": [],
   "source": [
    "#crashes by month\n",
    "data['Month'].value_counts()"
   ]
  },
  {
   "cell_type": "code",
   "execution_count": null,
   "metadata": {
    "colab": {
     "base_uri": "https://localhost:8080/"
    },
    "id": "t6UesAadxLKD",
    "outputId": "96038615-c400-4d5f-ef8f-110cbff9d790"
   },
   "outputs": [],
   "source": [
    "#crashes by day\n",
    "data['Day'].value_counts()"
   ]
  },
  {
   "cell_type": "code",
   "execution_count": null,
   "metadata": {
    "colab": {
     "base_uri": "https://localhost:8080/"
    },
    "id": "j9dk0TzxxQ0T",
    "outputId": "7522fb2c-fb53-41d6-87e0-1e94787455f3"
   },
   "outputs": [],
   "source": [
    "#crashes by time of the day\n",
    "data['CRASH TIME'].value_counts()"
   ]
  },
  {
   "cell_type": "markdown",
   "metadata": {
    "id": "Y7mV2fbnneoc"
   },
   "source": [
    "\n",
    "1. **What are the temporal trends in motor vehicle crashes over time? Are there specific times of the day, days of the week, or months with higher accident rates?**\n",
    "\n",
    "Ans : From the EDA I can conclude that, More number of crashes has occured in the months of March, May and June. To be specific all the months in first 3 quaters have more no of crashes with less varying in number, but the months of last quarter that is October, November and December having a very less number of crashes. So we can observe a strong seasonality across the months of a year. In the similar way we can see very little seasonilty across the days of the week, Tuesday and wednesday has he highest number of  crashes, even they vary with very lesser number of crashes.And we have more crashes  from 2pm to 6pm\n",
    "\n",
    "---\n"
   ]
  },
  {
   "cell_type": "code",
   "execution_count": null,
   "metadata": {
    "colab": {
     "base_uri": "https://localhost:8080/"
    },
    "id": "ANiZnIvawTr6",
    "outputId": "7c6a39ec-792f-4269-ba7c-33442eeb744e"
   },
   "outputs": [],
   "source": [
    "#crashes by time of the day\n",
    "data['CRASH TIME'].value_counts()"
   ]
  },
  {
   "cell_type": "markdown",
   "metadata": {
    "id": "p86i-vR1wXB3"
   },
   "source": [
    "\n",
    "2. **Is there a correlation between the time of day and the severity of crashes (i.e., more fatalities during certain hours)?**\n",
    "\n",
    "Ans : Interesting there is a strong relation between the time of the day and the crashes. From EDA I found that mostly crashes has been happened only from 2pm to 7pm.\n",
    "\n",
    "---\n"
   ]
  },
  {
   "cell_type": "code",
   "execution_count": null,
   "metadata": {
    "colab": {
     "base_uri": "https://localhost:8080/"
    },
    "id": "ZY5VpIbcwbC0",
    "outputId": "b7b44cb6-ba93-44e1-fd0b-40bee793e15d"
   },
   "outputs": [],
   "source": [
    "#Crashes by borough\n",
    "data['BOROUGH'].value_counts()"
   ]
  },
  {
   "cell_type": "code",
   "execution_count": null,
   "metadata": {
    "colab": {
     "base_uri": "https://localhost:8080/"
    },
    "id": "8kcd7K1myj5E",
    "outputId": "bfb12f50-19fa-4d9c-fb92-e1926db15b7d"
   },
   "outputs": [],
   "source": [
    "#crashes by street\n",
    "data['ON STREET NAME'].value_counts()"
   ]
  },
  {
   "cell_type": "markdown",
   "metadata": {
    "id": "i76fFvJ3wbRh"
   },
   "source": [
    "3. **Where are the most dangerous locations for motor vehicle crashes? Can we identify high-risk areas?**\n",
    "\n",
    "Ans : Brroklyn, Queens , Manhattan and Bronx are the dangerous and high risk areas among the boroughs.In streets, Broadway, Atlantic and 3rd Avuenue are risky areas.\n",
    "\n",
    "---\n"
   ]
  },
  {
   "cell_type": "markdown",
   "metadata": {
    "id": "C7mExeDowdTh"
   },
   "source": [
    "4. **Are there seasonal variations in the frequency and severity of motor vehicle crashes?**\n",
    "\n",
    "Ans:There is a strong seasonality across the particular time of the day which is from 2pm to 7pm and among the months its first 3 quaters has large number of crashes with less varying number of crashes across the months of first 3 quaters.\n"
   ]
  },
  {
   "cell_type": "markdown",
   "metadata": {
    "id": "tT4qxx_Pvlgx"
   },
   "source": [
    "## <font color=\"red\">5.Conclusion\n",
    "</font>\n",
    "\n",
    "So from the above EDA and the analysis I found that there is a seasonality in the variation of no of rashes across the months like first 3 quaters of the calendar year with large number of crashes and last quater being with less number of crashes so Traffic or Transport department should be more vigilent in those days and public as well need to take an extra mile interms of safety and also Driver Inattention/ Distraction is the main reason for the crashes so people has to keep this in mind while driving. And Interestingly I found that more crashes has beemn happeneing during the weekdays Tuesday and Thursday and in the timing from 2pm to 7pm this might be due to week day work ending and office closure hours.And also Brokloyn, Queens and manhattan has the highest number of crashes across the streets Broadway, Atlantic and 3rd avenue being the most.\n",
    "\n",
    "From this findings repsective authority of the governament can take preventive measures to acoid the crashes by deploying more traffic police force at the above mentioned areas at particular times across the all risky and dangerous areas."
   ]
  },
  {
   "cell_type": "markdown",
   "metadata": {
    "id": "xXijQncPvlgx"
   },
   "source": [
    "## <font color=\"red\">6.References:</font>\n"
   ]
  },
  {
   "cell_type": "markdown",
   "metadata": {
    "id": "clAJ508Yvlgx"
   },
   "source": [
    "\n",
    "    https://catalog.data.gov/dataset/motor-vehicle-collisions-crashes\n",
    "    \n",
    "    https://www.delftstack.com/howto/seaborn/size-of-seaborn-plot/\n",
    "    \n",
    "    https://seaborn.pydata.org/generated/seaborn.countplot.html\n",
    "    \n",
    "    https://towardsdatascience.com/how-to-perform-exploratory-data-analysis-with-seaborn-97e3413e841d\n",
    "    \n",
    "    https://www.geeksforgeeks.org/how-to-add-title-to-subplots-in-matplotlib/?ref=lbp"
   ]
  }
 ],
 "metadata": {
  "colab": {
   "provenance": []
  },
  "kernelspec": {
   "display_name": "Python 3 (ipykernel)",
   "language": "python",
   "name": "python3"
  },
  "language_info": {
   "codemirror_mode": {
    "name": "ipython",
    "version": 3
   },
   "file_extension": ".py",
   "mimetype": "text/x-python",
   "name": "python",
   "nbconvert_exporter": "python",
   "pygments_lexer": "ipython3",
   "version": "3.11.4"
  }
 },
 "nbformat": 4,
 "nbformat_minor": 1
}
